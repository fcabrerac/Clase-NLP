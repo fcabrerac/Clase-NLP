{
 "cells": [
  {
   "cell_type": "markdown",
   "metadata": {},
   "source": [
    "<img src='https://encrypted-tbn0.gstatic.com/images?q=tbn%3AANd9GcQ-VfNtOyJbsaxu43Kztf_cv1mgBG6ZIQZEVw&usqp=CAU'>\n",
    "\n",
    "# Procesamiento de Lenguage Natural\n",
    "\n",
    "## Taller #10: Twitter\n",
    "`Fecha de entrega: Noviembre 14, 2020 (Antes del inicio de la próxima clase).`\n",
    "\n",
    "`Modo de entrega: Subir link de GitHub al aula virtual.`"
   ]
  },
  {
   "cell_type": "code",
   "execution_count": 1,
   "metadata": {},
   "outputs": [],
   "source": [
    "import pandas as pd\n",
    "import tweepy"
   ]
  },
  {
   "cell_type": "code",
   "execution_count": 2,
   "metadata": {},
   "outputs": [],
   "source": [
    "# Leer llaves\n",
    "keys = pd.read_csv(\"keys.csv\", header=None)\n",
    "keys = dict(zip(keys[0],keys[1])) #Modo diccionario"
   ]
  },
  {
   "cell_type": "code",
   "execution_count": 3,
   "metadata": {},
   "outputs": [],
   "source": [
    "# Autorizar a través API\n",
    "auth = tweepy.OAuthHandler(keys['API_key'], keys['API_secret_key'])\n",
    "auth.set_access_token(keys['Access_token'], keys['Access_token_secret'])\n",
    "api = tweepy.API(auth, wait_on_rate_limit=True)"
   ]
  },
  {
   "cell_type": "code",
   "execution_count": 4,
   "metadata": {},
   "outputs": [
    {
     "data": {
      "text/html": [
       "<div>\n",
       "<style scoped>\n",
       "    .dataframe tbody tr th:only-of-type {\n",
       "        vertical-align: middle;\n",
       "    }\n",
       "\n",
       "    .dataframe tbody tr th {\n",
       "        vertical-align: top;\n",
       "    }\n",
       "\n",
       "    .dataframe thead th {\n",
       "        text-align: right;\n",
       "    }\n",
       "</style>\n",
       "<table border=\"1\" class=\"dataframe\">\n",
       "  <thead>\n",
       "    <tr style=\"text-align: right;\">\n",
       "      <th></th>\n",
       "      <th>city</th>\n",
       "      <th>lat</th>\n",
       "      <th>lng</th>\n",
       "      <th>country</th>\n",
       "      <th>iso2</th>\n",
       "      <th>admin</th>\n",
       "      <th>capital</th>\n",
       "      <th>population</th>\n",
       "      <th>population_proper</th>\n",
       "    </tr>\n",
       "  </thead>\n",
       "  <tbody>\n",
       "    <tr>\n",
       "      <td>0</td>\n",
       "      <td>Bogotá</td>\n",
       "      <td>4.649178</td>\n",
       "      <td>-74.062827</td>\n",
       "      <td>Colombia</td>\n",
       "      <td>CO</td>\n",
       "      <td>Bogotá</td>\n",
       "      <td>primary</td>\n",
       "      <td>7772000.0</td>\n",
       "      <td>6333661.0</td>\n",
       "    </tr>\n",
       "    <tr>\n",
       "      <td>1</td>\n",
       "      <td>Medellín</td>\n",
       "      <td>6.251840</td>\n",
       "      <td>-75.563591</td>\n",
       "      <td>Colombia</td>\n",
       "      <td>CO</td>\n",
       "      <td>Antioquia</td>\n",
       "      <td>admin</td>\n",
       "      <td>3297000.0</td>\n",
       "      <td>1999979.0</td>\n",
       "    </tr>\n",
       "    <tr>\n",
       "      <td>2</td>\n",
       "      <td>Cali</td>\n",
       "      <td>3.437222</td>\n",
       "      <td>-76.522500</td>\n",
       "      <td>Colombia</td>\n",
       "      <td>CO</td>\n",
       "      <td>Valle del Cauca</td>\n",
       "      <td>admin</td>\n",
       "      <td>2254000.0</td>\n",
       "      <td>2178836.0</td>\n",
       "    </tr>\n",
       "    <tr>\n",
       "      <td>3</td>\n",
       "      <td>Barranquilla</td>\n",
       "      <td>10.963889</td>\n",
       "      <td>-74.796389</td>\n",
       "      <td>Colombia</td>\n",
       "      <td>CO</td>\n",
       "      <td>Atlántico</td>\n",
       "      <td>admin</td>\n",
       "      <td>1798000.0</td>\n",
       "      <td>1244491.0</td>\n",
       "    </tr>\n",
       "    <tr>\n",
       "      <td>4</td>\n",
       "      <td>Bucaramanga</td>\n",
       "      <td>7.125393</td>\n",
       "      <td>-73.119804</td>\n",
       "      <td>Colombia</td>\n",
       "      <td>CO</td>\n",
       "      <td>Santander</td>\n",
       "      <td>admin</td>\n",
       "      <td>1009000.0</td>\n",
       "      <td>571820.0</td>\n",
       "    </tr>\n",
       "  </tbody>\n",
       "</table>\n",
       "</div>"
      ],
      "text/plain": [
       "           city        lat        lng   country iso2            admin  \\\n",
       "0        Bogotá   4.649178 -74.062827  Colombia   CO           Bogotá   \n",
       "1      Medellín   6.251840 -75.563591  Colombia   CO        Antioquia   \n",
       "2          Cali   3.437222 -76.522500  Colombia   CO  Valle del Cauca   \n",
       "3  Barranquilla  10.963889 -74.796389  Colombia   CO        Atlántico   \n",
       "4   Bucaramanga   7.125393 -73.119804  Colombia   CO        Santander   \n",
       "\n",
       "   capital  population  population_proper  \n",
       "0  primary   7772000.0          6333661.0  \n",
       "1    admin   3297000.0          1999979.0  \n",
       "2    admin   2254000.0          2178836.0  \n",
       "3    admin   1798000.0          1244491.0  \n",
       "4    admin   1009000.0           571820.0  "
      ]
     },
     "execution_count": 4,
     "metadata": {},
     "output_type": "execute_result"
    }
   ],
   "source": [
    "ciudades = pd.read_csv('co_small.csv')\n",
    "ciudades.head()"
   ]
  },
  {
   "cell_type": "code",
   "execution_count": 5,
   "metadata": {},
   "outputs": [
    {
     "name": "stdout",
     "output_type": "stream",
     "text": [
      "Bogotá\n",
      "Medellín\n",
      "Cali\n",
      "Barranquilla\n",
      "Bucaramanga\n",
      "Cartagena\n",
      "Cúcuta\n",
      "Pereira\n",
      "Santa Marta\n",
      "Ibagué\n",
      "Pasto\n",
      "Manizales\n",
      "Villavicencio\n",
      "Neiva\n",
      "Armenia\n",
      "Valledupar\n",
      "Montería\n",
      "Sincelejo\n",
      "Popayán\n",
      "Tunja\n",
      "Ríohacha\n",
      "Florencia\n",
      "Quibdó\n",
      "Arauca\n",
      "Yopal\n",
      "Leticia\n",
      "San Andrés\n",
      "San José del Guaviare\n",
      "Mocoa\n",
      "Puerto Carreño\n",
      "Mitú\n",
      "Inírida\n"
     ]
    }
   ],
   "source": [
    "all_tweets = [] \n",
    "\n",
    " \n",
    "\n",
    "for ciudad in ciudades.iterrows():\n",
    "    c = ciudad[1]\n",
    "    gc = f\"{c.lat},{c.lng},70km\"\n",
    "    c_name = c.city\n",
    "    \n",
    "    tweets = tweepy.Cursor(api.search,\n",
    "                       q=['economia del pais -RT'],\n",
    "                       lang='es',\n",
    "                       geocode=gc,\n",
    "                       tweet_mode='extended',\n",
    "                       include_rts=False).items(10)\n",
    "    \n",
    "    t = []\n",
    "\n",
    " \n",
    "\n",
    "    for tweet in tweets:\n",
    "        temp = []\n",
    "        temp.append(tweet.full_text)\n",
    "        temp.append(tweet.created_at)\n",
    "        temp.append(c_name)\n",
    "        temp.append(tweet.user.location)\n",
    "        temp.append(tweet.id)\n",
    "        temp.append(f\"https://twitter.com/i/web/status/{tweet.id}\")\n",
    "\n",
    " \n",
    "\n",
    "        t.append(temp)\n",
    "        \n",
    "    all_tweets.extend(t)\n",
    "    print(c_name)"
   ]
  },
  {
   "cell_type": "markdown",
   "metadata": {},
   "source": [
    "###  `[25 pts]` Punto 1: Extraer Tuits\n",
    "Extraer mínimo 100 tuits de Twitter usando la API\n",
    "\n",
    "(Si exponen sus claves, les haré maldades 😈)\n",
    "\n",
    "❌🎃❌ ¡No Halloween!"
   ]
  },
  {
   "cell_type": "code",
   "execution_count": 6,
   "metadata": {},
   "outputs": [
    {
     "data": {
      "text/plain": [
       "[['De las 39 actividades industriales, 28 registraron variaciones negativas en septiembre. La fabricación de vehículos y motores se desplomó un 30,5%. ¿Y el comercio minorista? Le contamos:\\n\\nhttps://t.co/8ez7Rl8aMk',\n",
       "  datetime.datetime(2020, 11, 13, 23, 10),\n",
       "  'Bogotá',\n",
       "  'Bogotá, Colombia',\n",
       "  1327388271471702016,\n",
       "  'https://twitter.com/i/web/status/1327388271471702016'],\n",
       " ['El Ministerio de Hacienda informó que el comité consultivo de la regla fiscal se reunió hoy, con el fin de realizar el seguimiento normativo a las finanzas públicas del país https://t.co/YgQRe5x2c3',\n",
       "  datetime.datetime(2020, 11, 13, 22, 17, 12),\n",
       "  'Bogotá',\n",
       "  'Bogotá, Colombia',\n",
       "  1327374986856845312,\n",
       "  'https://twitter.com/i/web/status/1327374986856845312'],\n",
       " ['*Trump dice que no sabe qué administración estará en el futuro, pero qué él no cerrará la economía del país.Para los que creían que Trump iba a incendiar todo, no.Da a entender que si las cortes fallan en su contra entregará el poder. De eso se trata la democracia.* https://t.co/AArOdCGeqg https://t.co/jAk6MqAXIL',\n",
       "  datetime.datetime(2020, 11, 13, 21, 52, 4),\n",
       "  'Bogotá',\n",
       "  'Venezuela',\n",
       "  1327368658918797314,\n",
       "  'https://twitter.com/i/web/status/1327368658918797314'],\n",
       " ['@SISSUUNAD_ZCBC @SISSU_UNAD @SISSUUNAD_ZCAR @SISSUUNAD_ZCBOY @SISSUUNAD_ZCSUR @SISSUUNAD_ZAO @SISSUUNAD_ZCORI @SISSUUNAD_ZOCC Los retos son muchos, pero siempre se debe dar una mirada a los que están aportando realmente a la economía y desarrollo del pais, nuestos agricultores y emprendedores dan la batalla por ser reconocidos y apoyados y sobretodo  en estos momentos de contingencia..',\n",
       "  datetime.datetime(2020, 11, 13, 21, 28, 11),\n",
       "  'Bogotá',\n",
       "  'Zipaquira',\n",
       "  1327362650368520197,\n",
       "  'https://twitter.com/i/web/status/1327362650368520197'],\n",
       " ['@diegomatteus ¿Qué es esto? pongan a esos músicos a pintar colegios ó arreglar carreteras ó hacer algo útil. Y al cerdo de Duque a trabajar por los líderes sociales asesinados y por la economía del país. Duquecito muy rumbero pero poco trabajo (de pronto se le ensucian sus zapaticos)',\n",
       "  datetime.datetime(2020, 11, 13, 17, 32),\n",
       "  'Bogotá',\n",
       "  'Bogota',\n",
       "  1327303211204669442,\n",
       "  'https://twitter.com/i/web/status/1327303211204669442'],\n",
       " ['La Ley de Reactivación Cultural debe implementar el Plan de Emergencia elaborado por agremiaciones artísticas del país, desconocer al sector pone en evidencia la incompetencia de su proyecto.\\nLa economía🍊 es el más grande desacierto y a las patadas la quieren implementar.',\n",
       "  datetime.datetime(2020, 11, 13, 17, 20, 51),\n",
       "  'Bogotá',\n",
       "  'Bogotá - Colombia',\n",
       "  1327300404967825410,\n",
       "  'https://twitter.com/i/web/status/1327300404967825410'],\n",
       " ['Según un reciente informe del World Inequiality Database, la desigualdad en América Latina es muy alta y está subestimada en las mediciones oficiales basadas solamente en datos de encuestas.\\n\\n¿Qué opina sobre esto?\\n\\nhttps://t.co/9HnUnSo9Vm',\n",
       "  datetime.datetime(2020, 11, 13, 17, 10),\n",
       "  'Bogotá',\n",
       "  'Bogotá, Colombia',\n",
       "  1327297674803023872,\n",
       "  'https://twitter.com/i/web/status/1327297674803023872'],\n",
       " ['Centrales obreras piden salario mínimo de $1.00.000, renta básica y subsidio a pymes. Es hora de que @IvanDuque @MintrabajoCol y gremios piensen en las y los trabajadores y en la economía del país\\n https://t.co/8bzCeHbJlB',\n",
       "  datetime.datetime(2020, 11, 13, 15, 38, 6),\n",
       "  'Bogotá',\n",
       "  'Chapinero, Bogotá',\n",
       "  1327274549352796161,\n",
       "  'https://twitter.com/i/web/status/1327274549352796161'],\n",
       " ['Ahora entiendo cuando mi papá decía: “La economía del país está reflejada en mis bolsillos”',\n",
       "  datetime.datetime(2020, 11, 13, 12, 30, 25),\n",
       "  'Bogotá',\n",
       "  'Villavicencio, Colombia',\n",
       "  1327227316997648385,\n",
       "  'https://twitter.com/i/web/status/1327227316997648385'],\n",
       " ['#PuenteFestivo| \"La importancia de la reactivación en el turismo y en el Sector Transporte tiene gran impacto para la economía del país, sin embargo, esta reactivación debe realizarse bajo unas medidas de autocuidado\": Viceministra, @CarmenLigiaV https://t.co/c2HdQbePLa',\n",
       "  datetime.datetime(2020, 11, 13, 12, 24, 50),\n",
       "  'Bogotá',\n",
       "  'Bogotá, Colombia',\n",
       "  1327225909296967682,\n",
       "  'https://twitter.com/i/web/status/1327225909296967682'],\n",
       " ['Un alto porcentaje de los campesinos del País, quienes cosechan nuestra comida son personas mayores, además de ser un acto de solidaridad consumir sus productos, es un asunto de responsabilidad con nuestra gente, nuestra economía. @QuinteroCalle @jucja18 https://t.co/7JbkJQJ4VD',\n",
       "  datetime.datetime(2020, 11, 13, 15, 1, 52),\n",
       "  'Medellín',\n",
       "  'Medellin',\n",
       "  1327265428863938561,\n",
       "  'https://twitter.com/i/web/status/1327265428863938561'],\n",
       " ['@ricarospina @BluRadioCo es que somos los empresarios y profesionales del país quienes reclamamos que se acabe la ley de garantías, cuyo contexto era la reelección que hoy no existe. Dos elecciones seguidas frenan muy fuerte la economía. #MananasBLU',\n",
       "  datetime.datetime(2020, 11, 13, 12, 44, 17),\n",
       "  'Medellín',\n",
       "  'Medellín',\n",
       "  1327230807220625416,\n",
       "  'https://twitter.com/i/web/status/1327230807220625416'],\n",
       " ['Otorgamos el 🏆Mercurio de Oro, nuestro máximo reconocimiento a @Ruta_N, que nace en 2009 con el principal reto y objetivo de cambiar la economía tradicional del país para pasar a una que esté basada en el conocimiento y ética empresarial. #NocheDeLosMejores 👏',\n",
       "  datetime.datetime(2020, 11, 13, 0, 40, 25),\n",
       "  'Medellín',\n",
       "  'Medellín, Colombia',\n",
       "  1327048640767135744,\n",
       "  'https://twitter.com/i/web/status/1327048640767135744'],\n",
       " ['@sairatatianaca1 reconoce que en #EcoFin @EAFIT se ha reafirmado como economista e investigadora. Aspira influir en las decisiones políticas del país y la región gracias a los conocimientos de la Maestría en Economía. \\n👉Aquí su historia: https://t.co/KT20MncA2t https://t.co/utQNHeOPEO',\n",
       "  datetime.datetime(2020, 11, 12, 22, 40),\n",
       "  'Medellín',\n",
       "  'Medellín, Colombia',\n",
       "  1327018334093778945,\n",
       "  'https://twitter.com/i/web/status/1327018334093778945'],\n",
       " ['Nos unimos a esta iniciativa con el ánimo de reactivar la economía del país y evitar las aglomeraciones de diciembre. De este modo continuamos gestionando esta coyuntura con un amplio sentido de humanidad y siempre pensando en el bien común. #ENTRETODOS #TodosSomosEmpresa https://t.co/NjeFxDwbgs',\n",
       "  datetime.datetime(2020, 11, 12, 21, 35, 22),\n",
       "  'Medellín',\n",
       "  'Medellin, Colombia',\n",
       "  1327002069463666689,\n",
       "  'https://twitter.com/i/web/status/1327002069463666689'],\n",
       " ['El Duribismo destruye, lo hace desde el 2002. La economía en campo y ciudad, la salud, la educación, ahora la revista de más prestigio del país. https://t.co/YjWTxQIQwz',\n",
       "  datetime.datetime(2020, 11, 11, 21, 50, 11),\n",
       "  'Medellín',\n",
       "  'Medellin (Colombia)',\n",
       "  1326643410007191552,\n",
       "  'https://twitter.com/i/web/status/1326643410007191552'],\n",
       " ['@jdoviedoa nos honraria hacer una presentacion de nuestro Banco de Tiempo como mecanismo disruptivo para implementar la economia del cuidado y sus valiosas herramientas como la ENUT desde cada barrio y escuela del pais. Mi whatsapp es 3116177773. Hector Hugo Florez. https://t.co/NpNryLmG8q',\n",
       "  datetime.datetime(2020, 11, 11, 18, 36, 15),\n",
       "  'Medellín',\n",
       "  'Medellin',\n",
       "  1326594607124262914,\n",
       "  'https://twitter.com/i/web/status/1326594607124262914'],\n",
       " ['#RegalíasParaAvanzar | ¿Cómo llegarán las regalías a más territorios del país? Únase a esta conversación y aclaremos dudas sobre las novedades en el Sistema General de Regalías. 👉 https://t.co/sPi8ALeRdy',\n",
       "  datetime.datetime(2020, 11, 11, 15, 33, 43),\n",
       "  'Medellín',\n",
       "  'Medellín',\n",
       "  1326548670876012552,\n",
       "  'https://twitter.com/i/web/status/1326548670876012552'],\n",
       " ['#RegalíasParaAvanzar | ¿Cómo llegarán las regalías a más territorios del país? Únase a esta conversación y aclaremos dudas sobre las novedades en el sistema 👉 https://t.co/DN7V9Vboe8 https://t.co/CSWxNEP36k',\n",
       "  datetime.datetime(2020, 11, 11, 12, 30, 1),\n",
       "  'Medellín',\n",
       "  'Medellín',\n",
       "  1326502437633490951,\n",
       "  'https://twitter.com/i/web/status/1326502437633490951'],\n",
       " ['Aquí la joya que compró Revista Semana \\n#GilinskiEnemigoDelPueblo\\nGilinski: ‘Es necesario revisar ineficiencias en riquezas heredadas’ https://t.co/otUAtWSWw2',\n",
       "  datetime.datetime(2020, 11, 11, 5, 22, 5),\n",
       "  'Medellín',\n",
       "  'Medellín - Colombia ',\n",
       "  1326394746395385865,\n",
       "  'https://twitter.com/i/web/status/1326394746395385865'],\n",
       " ['\"No entiendo el sentido de prioridades (...) estamos en la peor crisis económica del país en 100 años\": Julián Arévalo, decano facultad de economía Universidad Externado, sobre quitarle tres ceros al peso colombiano. #SemanaNoticias\\n\\nDetalles: https://t.co/aeF4kfMOEC https://t.co/TQ04SX08FS',\n",
       "  datetime.datetime(2020, 11, 13, 23, 17, 6),\n",
       "  'Cali',\n",
       "  'Colombia',\n",
       "  1327390061080571904,\n",
       "  'https://twitter.com/i/web/status/1327390061080571904'],\n",
       " ['#ColcobInforma Nuevo ciclo del #PAEF Desde la tercera semana de noviembre los interesados podrán solicitar el beneficio económico para proteger el empleo en el país. @Portafolioco 🧐 #PAEF\\n\\nhttps://t.co/EcoE0nfPwE',\n",
       "  datetime.datetime(2020, 11, 13, 22, 44, 35),\n",
       "  'Cali',\n",
       "  'Colombia',\n",
       "  1327381876311543809,\n",
       "  'https://twitter.com/i/web/status/1327381876311543809'],\n",
       " ['@EmmaClaudiaC @AngelaSanchezL @cifrasyconcepto Estamos seguros que será un trendo impulso para la economia del país',\n",
       "  datetime.datetime(2020, 11, 13, 22, 32, 26),\n",
       "  'Cali',\n",
       "  'Colombia',\n",
       "  1327378818479362049,\n",
       "  'https://twitter.com/i/web/status/1327378818479362049'],\n",
       " ['EUROPA\\nDe acuerdo al Ministro de Economía de Alemania, el país vio recuperación económica sostenida hasta el mes de octubre, pero se ha observado una clara ralentización a partir de agosto por cuenta de las restricciones implementadas para frenar la propagación del Coronavirus',\n",
       "  datetime.datetime(2020, 11, 13, 21, 27, 6),\n",
       "  'Cali',\n",
       "  'colombia',\n",
       "  1327362378317656066,\n",
       "  'https://twitter.com/i/web/status/1327362378317656066'],\n",
       " ['El departamento de Risaralda se posiciona como eje logístico gracias a su infraestructura y a su posición geográfica que lo ubica cerca del principal puerto del país y a las ciudades más importantes.\\n\\nInformate con Kargoru.\\n\\nhttps://t.co/fCav4dLNyZ https://t.co/L76XrmjlLM',\n",
       "  datetime.datetime(2020, 11, 13, 20, 10, 59),\n",
       "  'Cali',\n",
       "  'Colombia',\n",
       "  1327343221698162688,\n",
       "  'https://twitter.com/i/web/status/1327343221698162688'],\n",
       " ['#AntioquiaSeReactiva y el Aeropuerto Internacional José María Córdova ha sido fundamental en la reactivación de las operaciones aéreas internacionales en el país, conectado a Colombia con destinos internacionales que reactivan el turismo y la economía del país. https://t.co/QGYO5wTbJ4',\n",
       "  datetime.datetime(2020, 11, 13, 19, 40),\n",
       "  'Cali',\n",
       "  'Colombia',\n",
       "  1327335423463419907,\n",
       "  'https://twitter.com/i/web/status/1327335423463419907'],\n",
       " ['#AntioquiaSeReactiva | La economía, el turismo y el comercio del país se reactivan desde y hacia el aeropuerto de Medellín, que durante la reactivación de las operaciones aéreas domésticas ha movilizado a miles de viajeros en conexiones regionales. https://t.co/5thF5Hhofb',\n",
       "  datetime.datetime(2020, 11, 13, 19, 29),\n",
       "  'Cali',\n",
       "  'Colombia',\n",
       "  1327332654933442560,\n",
       "  'https://twitter.com/i/web/status/1327332654933442560'],\n",
       " ['#AntioquiaSeReactiva | El aeropuerto de Rionegro contribuye a la reactivación gradual de las operaciones aéreas, transportando miles de pasajeros que se conectan diariamente con diferentes regiones del país. Contribuyendo al crecimiento de la economía y el turismo de la región. https://t.co/n0FxTKOnta',\n",
       "  datetime.datetime(2020, 11, 13, 19, 13),\n",
       "  'Cali',\n",
       "  'Colombia',\n",
       "  1327328628330303488,\n",
       "  'https://twitter.com/i/web/status/1327328628330303488'],\n",
       " ['#AntioquiaSeReactiva | El departamento de Antioquia es fundamental para el transporte de carga y el desarrollo de la economía del país. Durante la emergencia sanitaria se han transportado miles de toneladas de carga por el Aeropuerto Internacional José María Córdova. https://t.co/Tkh5ufEwiw',\n",
       "  datetime.datetime(2020, 11, 13, 19, 0),\n",
       "  'Cali',\n",
       "  'Colombia',\n",
       "  1327325358694277120,\n",
       "  'https://twitter.com/i/web/status/1327325358694277120'],\n",
       " ['#AntioquiaSeReactiva | ¡El objetivo del Gobierno nacional es la activación del campo colombiano mediante la conectividad con las zonas urbanas! #ObrasQueReactivan y dinamizan la economía del país. https://t.co/qmtPp1sqLF',\n",
       "  datetime.datetime(2020, 11, 13, 18, 49),\n",
       "  'Cali',\n",
       "  'Colombia',\n",
       "  1327322588532645888,\n",
       "  'https://twitter.com/i/web/status/1327322588532645888'],\n",
       " ['“La región Caribe es fundamental para darle confiabilidad al abastecimiento de energía como un todo. Y se requiere en una situación crítica que esa generación térmica provea hasta el 50% de la demanda total del país”. Aseguró presidente de TEBSA #ForoLaFM\\n\\nhttps://t.co/sQORDC32P3',\n",
       "  datetime.datetime(2020, 11, 13, 21, 22, 4),\n",
       "  'Barranquilla',\n",
       "  'Atlántico, Colombia',\n",
       "  1327361109217714177,\n",
       "  'https://twitter.com/i/web/status/1327361109217714177'],\n",
       " ['Gobierno nacional amplía el rango de la contracción. ⬇️\\nhttps://t.co/FcMq2GPrUY',\n",
       "  datetime.datetime(2020, 11, 13, 19, 20),\n",
       "  'Barranquilla',\n",
       "  'Barranquilla, Colombia',\n",
       "  1327330390252646400,\n",
       "  'https://twitter.com/i/web/status/1327330390252646400'],\n",
       " ['Los campesinos con su voto tienen el poder de cambiar el rumbo del país. Sin embargo, se dejan convencer de los politiqueros de siempre y terminan como limosneros. ¿Acaso no saben que en verdad son un eje fundamental para la economía del país? ¡NO REGALES TU VOTO!',\n",
       "  datetime.datetime(2020, 11, 13, 6, 10, 1),\n",
       "  'Barranquilla',\n",
       "  'Cartagena, Colombia',\n",
       "  1327131584525447168,\n",
       "  'https://twitter.com/i/web/status/1327131584525447168'],\n",
       " ['. @MinTransporteCo lidera estrategias para la equidad de género en sus instituciones. Líderes destacan rol femenino en las organizaciones. 👇\\nhttps://t.co/pYdzF2zljl',\n",
       "  datetime.datetime(2020, 11, 12, 13, 20),\n",
       "  'Barranquilla',\n",
       "  'Barranquilla, Colombia',\n",
       "  1326877405336596482,\n",
       "  'https://twitter.com/i/web/status/1326877405336596482'],\n",
       " ['La mujer se abre paso en el sector portuario del país https://t.co/d1KtyJ1bCK',\n",
       "  datetime.datetime(2020, 11, 12, 12, 54, 57),\n",
       "  'Barranquilla',\n",
       "  'Barranquilla',\n",
       "  1326871101276827654,\n",
       "  'https://twitter.com/i/web/status/1326871101276827654'],\n",
       " ['@IvanCepedaCast 🙃🙃🙃Señor senador me deja ver los proyectos aprobados que nos ayudarán para la economía del país.\\nY así los que no nos ganamos 23 millones mensuales podamos pagar su sueldo. \\nGracias señor senador. 🙃🙃🙃',\n",
       "  datetime.datetime(2020, 11, 12, 12, 45, 44),\n",
       "  'Barranquilla',\n",
       "  'Cartagena, Colombia',\n",
       "  1326868780878868481,\n",
       "  'https://twitter.com/i/web/status/1326868780878868481'],\n",
       " ['Todos los que andan diciendo #ChaoSemana hace unos meses echaban babas por Gilinski. No son capaces de pensar que todo tiene matices, no es blanco o negro.\\n\\n ‘Es necesario revisar ineficiencias en riquezas heredadas’ https://t.co/C03IGbbHuL',\n",
       "  datetime.datetime(2020, 11, 11, 19, 54, 30),\n",
       "  'Barranquilla',\n",
       "  'Cartagena, Colombia',\n",
       "  1326614297062027264,\n",
       "  'https://twitter.com/i/web/status/1326614297062027264'],\n",
       " ['La transformación de la economía a través de las industrias creativas, culturales, del arte y del patrimonio, hacen de este proyecto un gran sueño de país. Una realidad de la Economía Naranja.  #ArenaDelRio #ElFuturoEsAhora https://t.co/32tSI13te3',\n",
       "  datetime.datetime(2020, 11, 11, 0, 30, 46),\n",
       "  'Barranquilla',\n",
       "  'Barranquilla, Colombia',\n",
       "  1326321433040068609,\n",
       "  'https://twitter.com/i/web/status/1326321433040068609'],\n",
       " ['La Cultura, talento y la gente de Barranquilla son sensacionales: aquí con el segundo Carnaval más grande del mundo, la Economía Naranja fluye naturalmente, generando desarrollo al país. Afirmó el Presidente @IvanDuque en la presentación del Arena del Río. 👏🏼 https://t.co/yHMqwMm0y5',\n",
       "  datetime.datetime(2020, 11, 10, 23, 24, 38),\n",
       "  'Barranquilla',\n",
       "  'Barranquilla, Colombia',\n",
       "  1326304792843530242,\n",
       "  'https://twitter.com/i/web/status/1326304792843530242'],\n",
       " ['@lunadavid @DANE_Colombia El COVID-19 nos ha pegado muy duro a la economía, el empleo del país, pero más a las mujeres!',\n",
       "  datetime.datetime(2020, 11, 10, 16, 0, 58),\n",
       "  'Barranquilla',\n",
       "  'COLOMBIA',\n",
       "  1326193140169109504,\n",
       "  'https://twitter.com/i/web/status/1326193140169109504'],\n",
       " ['Esta cuenta la utilizo para actualizarme en política, noticias, feminismos, economía y ahora en penes lindos del país 🤣🤣🤣',\n",
       "  datetime.datetime(2020, 11, 13, 15, 1, 34),\n",
       "  'Bucaramanga',\n",
       "  'Bucaramanga, Colombia',\n",
       "  1327265352259153921,\n",
       "  'https://twitter.com/i/web/status/1327265352259153921'],\n",
       " ['Avianca no hará uso del crédito otorgado por el gobierno, NO HARÁ USO DEL CRÉDITO OTORGADO POR EL GOBIERNO. Ya la parte del país que estaba distraído sin producir gracias a este tema, puede empezar a meter el hombro para levantar esta economía. https://t.co/OEXLxvoCYE',\n",
       "  datetime.datetime(2020, 11, 12, 13, 47, 25),\n",
       "  'Bucaramanga',\n",
       "  'Bogotá ',\n",
       "  1326884307516989440,\n",
       "  'https://twitter.com/i/web/status/1326884307516989440'],\n",
       " ['La pandemia ya acabó con 174 hoteles del país https://t.co/UJvdACqHWW via @eltiempo',\n",
       "  datetime.datetime(2020, 11, 12, 4, 57, 45),\n",
       "  'Bucaramanga',\n",
       "  'Bucaramanga, Colombia',\n",
       "  1326751011978031105,\n",
       "  'https://twitter.com/i/web/status/1326751011978031105'],\n",
       " ['@subcantante En un planeta llamado polombia, donde no existe la pobreza, el covid ya fue superado, no existen masacres, y la economía naranja posicionó al país como un país del primer mundo',\n",
       "  datetime.datetime(2020, 11, 11, 20, 51, 26),\n",
       "  'Bucaramanga',\n",
       "  'Bucaramanga, Colombia',\n",
       "  1326628624435466246,\n",
       "  'https://twitter.com/i/web/status/1326628624435466246'],\n",
       " ['@Tiburonrecargad @wikyluis @NoZikoNoParty @saramar0813 @Bogota Y tengo entendido que Atlántico es la quinta economía del país, aún les falta para soñar con tener la tercera ciudad del país.',\n",
       "  datetime.datetime(2020, 11, 11, 2, 24, 27),\n",
       "  'Bucaramanga',\n",
       "  'Bucaramanga-Colombia',\n",
       "  1326350044266721280,\n",
       "  'https://twitter.com/i/web/status/1326350044266721280'],\n",
       " ['@Tiburonrecargad @wikyluis @NoZikoNoParty @saramar0813 @Bogota Viejo, mi departamento es la cuarta economía del país. Bucaramanga es un caso especial porque la mitad de la gente vive en los otros municipios del área metropolitana, no como otras ciudades del país donde la gente vive en la ciudad que trabaja. Yo por ejemplo vivo en Girón.',\n",
       "  datetime.datetime(2020, 11, 11, 2, 23, 30),\n",
       "  'Bucaramanga',\n",
       "  'Bucaramanga-Colombia',\n",
       "  1326349805854093313,\n",
       "  'https://twitter.com/i/web/status/1326349805854093313'],\n",
       " ['#Economía | El Gobierno Nacional, a través de los ministerios de Comercio, Industria y Turismo y del Interior, dieron a conocer los lineamientos para la tercera jornada de día sin IVA en el país, que se realizará el próximo 21 de noviembre.\\nhttps://t.co/q3NjJWqBff',\n",
       "  datetime.datetime(2020, 11, 11, 2, 20),\n",
       "  'Bucaramanga',\n",
       "  'Bucaramanga',\n",
       "  1326348923183620096,\n",
       "  'https://twitter.com/i/web/status/1326348923183620096'],\n",
       " ['#Economía | En el marco del Gran Foro Mundial de Artes, Cultura, Creatividad y Tecnología, el presidente Iván Duque aseguró que este ha sido el año más difícil para la cultura y la economía naranja en la historia reciente del país.\\nhttps://t.co/H6jQX2UgJy',\n",
       "  datetime.datetime(2020, 11, 10, 23, 0),\n",
       "  'Bucaramanga',\n",
       "  'Bucaramanga',\n",
       "  1326298592747741184,\n",
       "  'https://twitter.com/i/web/status/1326298592747741184'],\n",
       " ['#Economía -  En Colombia ya comenzó la ejecución del segundo ciclo de vacunación contra la fiebre aftosa, para inmunizar contra esta enfermedad una población de 28.648.568 millones de bovinos que albergan 638.000 predios rurales del país.\\nhttps://t.co/4m92kfr7ND',\n",
       "  datetime.datetime(2020, 11, 10, 14, 36, 12),\n",
       "  'Bucaramanga',\n",
       "  'Bucaramanga, Santander',\n",
       "  1326171805942476800,\n",
       "  'https://twitter.com/i/web/status/1326171805942476800'],\n",
       " ['#GanoBiden y empieza la #lloratonuribista por no tener un país capitalista en América para huir de Colombia, evitando disfrutar del desarrollo que nos ha traído, no la economía naranja sino la #EconomíaMandarina.',\n",
       "  datetime.datetime(2020, 11, 7, 23, 6, 54),\n",
       "  'Bucaramanga',\n",
       "  'Bucaramanga, Santander',\n",
       "  1325213165676761090,\n",
       "  'https://twitter.com/i/web/status/1325213165676761090'],\n",
       " ['“La región Caribe es fundamental para darle confiabilidad al abastecimiento de energía como un todo. Y se requiere en una situación crítica que esa generación térmica provea hasta el 50% de la demanda total del país”. Aseguró presidente de TEBSA #ForoLaFM\\n\\nhttps://t.co/sQORDC32P3',\n",
       "  datetime.datetime(2020, 11, 13, 21, 22, 4),\n",
       "  'Cartagena',\n",
       "  'Atlántico, Colombia',\n",
       "  1327361109217714177,\n",
       "  'https://twitter.com/i/web/status/1327361109217714177'],\n",
       " ['Gobierno nacional amplía el rango de la contracción. ⬇️\\nhttps://t.co/FcMq2GPrUY',\n",
       "  datetime.datetime(2020, 11, 13, 19, 20),\n",
       "  'Cartagena',\n",
       "  'Barranquilla, Colombia',\n",
       "  1327330390252646400,\n",
       "  'https://twitter.com/i/web/status/1327330390252646400'],\n",
       " ['Los campesinos con su voto tienen el poder de cambiar el rumbo del país. Sin embargo, se dejan convencer de los politiqueros de siempre y terminan como limosneros. ¿Acaso no saben que en verdad son un eje fundamental para la economía del país? ¡NO REGALES TU VOTO!',\n",
       "  datetime.datetime(2020, 11, 13, 6, 10, 1),\n",
       "  'Cartagena',\n",
       "  'Cartagena, Colombia',\n",
       "  1327131584525447168,\n",
       "  'https://twitter.com/i/web/status/1327131584525447168'],\n",
       " ['. @MinTransporteCo lidera estrategias para la equidad de género en sus instituciones. Líderes destacan rol femenino en las organizaciones. 👇\\nhttps://t.co/pYdzF2zljl',\n",
       "  datetime.datetime(2020, 11, 12, 13, 20),\n",
       "  'Cartagena',\n",
       "  'Barranquilla, Colombia',\n",
       "  1326877405336596482,\n",
       "  'https://twitter.com/i/web/status/1326877405336596482'],\n",
       " ['La mujer se abre paso en el sector portuario del país https://t.co/d1KtyJ1bCK',\n",
       "  datetime.datetime(2020, 11, 12, 12, 54, 57),\n",
       "  'Cartagena',\n",
       "  'Barranquilla',\n",
       "  1326871101276827654,\n",
       "  'https://twitter.com/i/web/status/1326871101276827654'],\n",
       " ['@IvanCepedaCast 🙃🙃🙃Señor senador me deja ver los proyectos aprobados que nos ayudarán para la economía del país.\\nY así los que no nos ganamos 23 millones mensuales podamos pagar su sueldo. \\nGracias señor senador. 🙃🙃🙃',\n",
       "  datetime.datetime(2020, 11, 12, 12, 45, 44),\n",
       "  'Cartagena',\n",
       "  'Cartagena, Colombia',\n",
       "  1326868780878868481,\n",
       "  'https://twitter.com/i/web/status/1326868780878868481'],\n",
       " ['Todos los que andan diciendo #ChaoSemana hace unos meses echaban babas por Gilinski. No son capaces de pensar que todo tiene matices, no es blanco o negro.\\n\\n ‘Es necesario revisar ineficiencias en riquezas heredadas’ https://t.co/C03IGbbHuL',\n",
       "  datetime.datetime(2020, 11, 11, 19, 54, 30),\n",
       "  'Cartagena',\n",
       "  'Cartagena, Colombia',\n",
       "  1326614297062027264,\n",
       "  'https://twitter.com/i/web/status/1326614297062027264'],\n",
       " ['La transformación de la economía a través de las industrias creativas, culturales, del arte y del patrimonio, hacen de este proyecto un gran sueño de país. Una realidad de la Economía Naranja.  #ArenaDelRio #ElFuturoEsAhora https://t.co/32tSI13te3',\n",
       "  datetime.datetime(2020, 11, 11, 0, 30, 46),\n",
       "  'Cartagena',\n",
       "  'Barranquilla, Colombia',\n",
       "  1326321433040068609,\n",
       "  'https://twitter.com/i/web/status/1326321433040068609'],\n",
       " ['La Cultura, talento y la gente de Barranquilla son sensacionales: aquí con el segundo Carnaval más grande del mundo, la Economía Naranja fluye naturalmente, generando desarrollo al país. Afirmó el Presidente @IvanDuque en la presentación del Arena del Río. 👏🏼 https://t.co/yHMqwMm0y5',\n",
       "  datetime.datetime(2020, 11, 10, 23, 24, 38),\n",
       "  'Cartagena',\n",
       "  'Barranquilla, Colombia',\n",
       "  1326304792843530242,\n",
       "  'https://twitter.com/i/web/status/1326304792843530242'],\n",
       " ['la Agricultura familiar, es fuente de empleo y contribuye a la economía del pais.\\nApoya los mercados campesinos, compra sin intermediarios, compra natural.\\nTe invito a darle like a esta publicación.\\n@SISSU_UNAD\\n@SISSUUNAD_ZCAR \\n#SERVICIOSOCIALUNADISTAENCASA https://t.co/3maGQ1z7kE',\n",
       "  datetime.datetime(2020, 11, 10, 14, 39, 43),\n",
       "  'Cartagena',\n",
       "  'Barranquilla, Colombia',\n",
       "  1326172692962217985,\n",
       "  'https://twitter.com/i/web/status/1326172692962217985'],\n",
       " ['#Economía ➟ El Fondo Nacional del Turismo indicó que con el surgimiento de la pandemia y el cierre de fronteras, el sector turístico del país se paralizó por ende, el Gobierno intenta apalancar y revivir el sector de gran importancia para la economía.  https://t.co/nir0oECzL4',\n",
       "  datetime.datetime(2020, 11, 11, 20, 25, 3),\n",
       "  'Cúcuta',\n",
       "  'Cúcuta, Colombia',\n",
       "  1326621985141641216,\n",
       "  'https://twitter.com/i/web/status/1326621985141641216'],\n",
       " ['@dcabellor @ConElMazoDando Si prepara bien pa que muestres que no hay gasolina..que la economía está destruida,que el salario no alcanza,,que no hay luz,, comida ,, que la gente esta saliendo otra es del país .. pero tranquilos ya vencieron por qué acabaron con el pais',\n",
       "  datetime.datetime(2020, 11, 11, 13, 39, 9),\n",
       "  'Cúcuta',\n",
       "  'san cristobal/venezuela',\n",
       "  1326519837062029313,\n",
       "  'https://twitter.com/i/web/status/1326519837062029313'],\n",
       " ['Se inició la ruta para licitar la primera ola de concesiones 5G https://t.co/a0eddRF37n vía @eltiempo. No se vislumbran proyectos 5G para norte Santander o que nos conecten con otras zonas del país en esta primera ola de 5G. @IvanDuque @mluciaramirez',\n",
       "  datetime.datetime(2020, 11, 11, 11, 56, 18),\n",
       "  'Cúcuta',\n",
       "  'Cúcuta-Colombia',\n",
       "  1326493954783801346,\n",
       "  'https://twitter.com/i/web/status/1326493954783801346'],\n",
       " ['@babybordeline @Teffy_Anahi @LuzFernandezz_ En mi opinión si no queres ser madre es tu problema , pero por que le vas a impedir a una mujer que siente el deseo de ser madre por culpa de la economía del país ? Estas muy confundida . Ligate  las trompas vos',\n",
       "  datetime.datetime(2020, 11, 11, 5, 11, 29),\n",
       "  'Cúcuta',\n",
       "  'san Cayetano ',\n",
       "  1326392077060628481,\n",
       "  'https://twitter.com/i/web/status/1326392077060628481'],\n",
       " ['@El_Cooperante El problema de la economía Venezolana se llama socialismo del siglo XXI y esa mierda no sirve ni se come y el pueblo está harto de tanta suciedad con la que manejan las riendas del país, mientras esos miserables sigan en su afán de saquear las riquezas no habrá un país prospero',\n",
       "  datetime.datetime(2020, 11, 10, 21, 16, 12),\n",
       "  'Cúcuta',\n",
       "  'ÜT: 7.7794,-72.21993',\n",
       "  1326272468470951941,\n",
       "  'https://twitter.com/i/web/status/1326272468470951941'],\n",
       " ['El efecto del independentismo Catalan de ese gran País que es España, no se entiende, hay diferencias sí pero cohabiten. Cataluña no resiste más y registra un aumento del 87,34% en concurso de acreedores https://t.co/TaOj1WIS8M vía @ABCeconomia',\n",
       "  datetime.datetime(2020, 11, 10, 16, 9),\n",
       "  'Cúcuta',\n",
       "  'Cúcuta',\n",
       "  1326195159781011456,\n",
       "  'https://twitter.com/i/web/status/1326195159781011456'],\n",
       " ['@alexagomez2000 @negromangueraa Arrecho como la economía colombiana hizo llegar hasta el centro del país algo cm BonIce 🤣🤣🤣 me sorprende esto llave.',\n",
       "  datetime.datetime(2020, 11, 10, 12, 40, 21),\n",
       "  'Cúcuta',\n",
       "  'San Cristóbal, Táchira',\n",
       "  1326142651171659779,\n",
       "  'https://twitter.com/i/web/status/1326142651171659779'],\n",
       " ['Los comerciantes en el oriente del país han respaldado la propuesta para que el tercer día sin IVA se desarrolle el 21 de noviembre, y esto permita dinamizar la economía en la zona de frontera. https://t.co/b2AJQjphqe',\n",
       "  datetime.datetime(2020, 11, 5, 14, 10),\n",
       "  'Cúcuta',\n",
       "  'Cúcuta, Colombia',\n",
       "  1324353275165106176,\n",
       "  'https://twitter.com/i/web/status/1324353275165106176'],\n",
       " ['Siendo sincera Trump tiene una política en torno a la economía más robusta pero ante su antipatía, su asco por la gente, su mal manejo de la pandemia, sobre todo por que primaba más su interés personal que el del país, le jugó su mala pasada y ahí tiene su merecido',\n",
       "  datetime.datetime(2020, 11, 5, 3, 24, 59),\n",
       "  'Cúcuta',\n",
       "  'Bogotá, Colombia',\n",
       "  1324190950252490755,\n",
       "  'https://twitter.com/i/web/status/1324190950252490755'],\n",
       " ['A @JoseMVivanco Álvaro Uribe V.\\nTrajo para Colombia, Seguridad \\nDemocrática, inversión extranjera\\ndejó una Economía por encima del\\n4.2% Chávez fue un Dictador, dejó\\na su país en un infierno, y después\\nde su muerte ese país todavia no\\nse repone, @VickyDavilaH.',\n",
       "  datetime.datetime(2020, 11, 5, 2, 18, 24),\n",
       "  'Cúcuta',\n",
       "  'Cúcuta, Colombia',\n",
       "  1324174196042321920,\n",
       "  'https://twitter.com/i/web/status/1324174196042321920'],\n",
       " ['#Economía || COTELCO Risaralda celebró la aprobación en primer debate del proyecto de Ley de Turismo, con la cual se busca darle fuerza a la reactivación económica de este importante sector productivo del país.\\n\\n#IntegramosLaRegión https://t.co/L7CT5tfFEt',\n",
       "  datetime.datetime(2020, 11, 11, 18, 46, 7),\n",
       "  'Pereira',\n",
       "  'Eje Cafetero',\n",
       "  1326597088390615041,\n",
       "  'https://twitter.com/i/web/status/1326597088390615041'],\n",
       " ['#Economía | El Gobierno nacional hizo un llamado a gobernadores y alcaldes del país para que ese día, 21 de noviembre, se suspenda la venta presencial de electrodomésticos, computadores y equipos de comunicaciones. #FelizMiércoles #FelizMiercolesATodos \\nhttps://t.co/LBQEty70Co',\n",
       "  datetime.datetime(2020, 11, 11, 13, 58, 6),\n",
       "  'Pereira',\n",
       "  'Ibague, Tolima',\n",
       "  1326524604911902721,\n",
       "  'https://twitter.com/i/web/status/1326524604911902721'],\n",
       " ['@DANE_Colombia publicó un nuevo libro sobre brechas de género en el mercado colombiano para estudiar los avances tras 10 años de la promulgación de la Ley 1413 que regula la inclusión de la economía para medir la contribución de las mujeres al desarrollo económico del país.',\n",
       "  datetime.datetime(2020, 11, 11, 13, 13, 15),\n",
       "  'Pereira',\n",
       "  'Manizales - Colombia',\n",
       "  1326513318761287680,\n",
       "  'https://twitter.com/i/web/status/1326513318761287680'],\n",
       " ['En el marco del Gran Foro Mundial de Artes, Cultura, Creatividad y Tecnología, el presidente Iván Duque Márquez aseguró que este ha sido el año más difícil para la cultura y la economía naranja  en la historia reciente del país.\\nhttps://t.co/Ncb2VuktJo',\n",
       "  datetime.datetime(2020, 11, 11, 1, 0, 1),\n",
       "  'Pereira',\n",
       "  'Ibague - Colombia',\n",
       "  1326328795352211458,\n",
       "  'https://twitter.com/i/web/status/1326328795352211458'],\n",
       " ['Hoy presentes en la Macrorrueda de las Américas 2020, buscando oportunidades para aumentar las exportaciones de café #caldense y colombiano. El sector de la agroindustria continúa dinamizando la economía del país. #MacrorruedaAméricas2020 @PROCOLOMBIACO @JulianaVillegas https://t.co/NxvtX3H0OG',\n",
       "  datetime.datetime(2020, 11, 6, 19, 35, 31),\n",
       "  'Pereira',\n",
       "  'Manizales, Colombia',\n",
       "  1324797581667540997,\n",
       "  'https://twitter.com/i/web/status/1324797581667540997'],\n",
       " ['Más de 300 pedalistas ya ruedan en la #VueltaSeniorMáster #IbaguéVibra. Reactivamos la economía a través del deporte y nos posicionamos como la capital deportiva del centro del país. @Andreshurtado_7 https://t.co/jYG1e2Ohbx',\n",
       "  datetime.datetime(2020, 11, 6, 18, 19, 3),\n",
       "  'Pereira',\n",
       "  'Ibagué',\n",
       "  1324778335826776064,\n",
       "  'https://twitter.com/i/web/status/1324778335826776064'],\n",
       " ['Leo puras críticas acá sobre las personas pendientes a las elecciones de USA y lo cierto es que a todo el mundo le debería importar, son un país del cual directa e indirectamente dependen muchos otros países e influye en nuestra economía y política.',\n",
       "  datetime.datetime(2020, 11, 5, 15, 56, 2),\n",
       "  'Pereira',\n",
       "  'Armenia, Quindío',\n",
       "  1324379956521127937,\n",
       "  'https://twitter.com/i/web/status/1324379956521127937'],\n",
       " ['Educación y Economía, la apuesta de las universidades del país https://t.co/Uu44BoD8pF',\n",
       "  datetime.datetime(2020, 11, 5, 12, 26, 34),\n",
       "  'Pereira',\n",
       "  'Manizales',\n",
       "  1324327244412653570,\n",
       "  'https://twitter.com/i/web/status/1324327244412653570'],\n",
       " ['#CaracolRadioManizales1180AM Educación y Economía, la apuesta de las universidades del país. https://t.co/hVNH9mTHAj',\n",
       "  datetime.datetime(2020, 11, 5, 12, 23, 35),\n",
       "  'Pereira',\n",
       "  'Manizales, Colombia',\n",
       "  1324326491790999552,\n",
       "  'https://twitter.com/i/web/status/1324326491790999552'],\n",
       " ['@manuelapesca @GustavoBolivar En el sentido de pensar en que si se quiere una reapertura económica, como por ejemplo el sector turístico, no representar un foco de contagio magnificado que les impida a ciudadanos con gobernantes más serios la entrada y el aporte a la economía del país',\n",
       "  datetime.datetime(2020, 11, 5, 2, 41, 9),\n",
       "  'Pereira',\n",
       "  'Manizales, Caldas',\n",
       "  1324179919652458499,\n",
       "  'https://twitter.com/i/web/status/1324179919652458499'],\n",
       " ['“La región Caribe es fundamental para darle confiabilidad al abastecimiento de energía como un todo. Y se requiere en una situación crítica que esa generación térmica provea hasta el 50% de la demanda total del país”. Aseguró presidente de TEBSA #ForoLaFM\\n\\nhttps://t.co/sQORDC32P3',\n",
       "  datetime.datetime(2020, 11, 13, 21, 22, 4),\n",
       "  'Santa Marta',\n",
       "  'Atlántico, Colombia',\n",
       "  1327361109217714177,\n",
       "  'https://twitter.com/i/web/status/1327361109217714177'],\n",
       " ['Gobierno nacional amplía el rango de la contracción. ⬇️\\nhttps://t.co/FcMq2GPrUY',\n",
       "  datetime.datetime(2020, 11, 13, 19, 20),\n",
       "  'Santa Marta',\n",
       "  'Barranquilla, Colombia',\n",
       "  1327330390252646400,\n",
       "  'https://twitter.com/i/web/status/1327330390252646400'],\n",
       " ['. @MinTransporteCo lidera estrategias para la equidad de género en sus instituciones. Líderes destacan rol femenino en las organizaciones. 👇\\nhttps://t.co/pYdzF2zljl',\n",
       "  datetime.datetime(2020, 11, 12, 13, 20),\n",
       "  'Santa Marta',\n",
       "  'Barranquilla, Colombia',\n",
       "  1326877405336596482,\n",
       "  'https://twitter.com/i/web/status/1326877405336596482'],\n",
       " ['La mujer se abre paso en el sector portuario del país https://t.co/d1KtyJ1bCK',\n",
       "  datetime.datetime(2020, 11, 12, 12, 54, 57),\n",
       "  'Santa Marta',\n",
       "  'Barranquilla',\n",
       "  1326871101276827654,\n",
       "  'https://twitter.com/i/web/status/1326871101276827654'],\n",
       " ['La transformación de la economía a través de las industrias creativas, culturales, del arte y del patrimonio, hacen de este proyecto un gran sueño de país. Una realidad de la Economía Naranja.  #ArenaDelRio #ElFuturoEsAhora https://t.co/32tSI13te3',\n",
       "  datetime.datetime(2020, 11, 11, 0, 30, 46),\n",
       "  'Santa Marta',\n",
       "  'Barranquilla, Colombia',\n",
       "  1326321433040068609,\n",
       "  'https://twitter.com/i/web/status/1326321433040068609'],\n",
       " ['La Cultura, talento y la gente de Barranquilla son sensacionales: aquí con el segundo Carnaval más grande del mundo, la Economía Naranja fluye naturalmente, generando desarrollo al país. Afirmó el Presidente @IvanDuque en la presentación del Arena del Río. 👏🏼 https://t.co/yHMqwMm0y5',\n",
       "  datetime.datetime(2020, 11, 10, 23, 24, 38),\n",
       "  'Santa Marta',\n",
       "  'Barranquilla, Colombia',\n",
       "  1326304792843530242,\n",
       "  'https://twitter.com/i/web/status/1326304792843530242'],\n",
       " ['@lunadavid @DANE_Colombia El COVID-19 nos ha pegado muy duro a la economía, el empleo del país, pero más a las mujeres!',\n",
       "  datetime.datetime(2020, 11, 10, 16, 0, 58),\n",
       "  'Santa Marta',\n",
       "  'COLOMBIA',\n",
       "  1326193140169109504,\n",
       "  'https://twitter.com/i/web/status/1326193140169109504'],\n",
       " ['la Agricultura familiar, es fuente de empleo y contribuye a la economía del pais.\\nApoya los mercados campesinos, compra sin intermediarios, compra natural.\\nTe invito a darle like a esta publicación.\\n@SISSU_UNAD\\n@SISSUUNAD_ZCAR \\n#SERVICIOSOCIALUNADISTAENCASA https://t.co/3maGQ1z7kE',\n",
       "  datetime.datetime(2020, 11, 10, 14, 39, 43),\n",
       "  'Santa Marta',\n",
       "  'Barranquilla, Colombia',\n",
       "  1326172692962217985,\n",
       "  'https://twitter.com/i/web/status/1326172692962217985'],\n",
       " ['@mclacouture @AmChamCol @ColombiaEmbUSA @USEmbassyBogota @GovAbbott Si Texas fuera\\xa0un\\xa0país sería la\\xa09a\\xa0economía más grande del mundo. Líder en crecimiento laboral. Uuno de los mejores climas de negocios en EE. UU. y su ubicación estratégica en el centro del país les ayuda a las empresas a disminuir gastos de transporte: Adriana Cruz. DEOD Texas. https://t.co/MNnPAwMsSJ',\n",
       "  datetime.datetime(2020, 11, 10, 10, 36, 46),\n",
       "  'Santa Marta',\n",
       "  'Barranquilla',\n",
       "  1326111551171022848,\n",
       "  'https://twitter.com/i/web/status/1326111551171022848'],\n",
       " ['#AdelantaLaPrima👉 una iniciativa colaborativa que promueve anticipar parcialmente a los trabajadores de Colombia las primas para dinamizar la economía del País y promover el consumo responsable. \\n\\nConoce los detalles para unirte a la campaña en 👉https://t.co/3IkPLfX31J https://t.co/PQIiTxt8S1',\n",
       "  datetime.datetime(2020, 11, 9, 23, 0, 1),\n",
       "  'Santa Marta',\n",
       "  'Barranquilla, Colombia',\n",
       "  1325936208330039296,\n",
       "  'https://twitter.com/i/web/status/1325936208330039296'],\n",
       " ['#Economía || COTELCO Risaralda celebró la aprobación en primer debate del proyecto de Ley de Turismo, con la cual se busca darle fuerza a la reactivación económica de este importante sector productivo del país.\\n\\n#IntegramosLaRegión https://t.co/L7CT5tfFEt',\n",
       "  datetime.datetime(2020, 11, 11, 18, 46, 7),\n",
       "  'Ibagué',\n",
       "  'Eje Cafetero',\n",
       "  1326597088390615041,\n",
       "  'https://twitter.com/i/web/status/1326597088390615041'],\n",
       " ['#Economía | El Gobierno nacional hizo un llamado a gobernadores y alcaldes del país para que ese día, 21 de noviembre, se suspenda la venta presencial de electrodomésticos, computadores y equipos de comunicaciones. #FelizMiércoles #FelizMiercolesATodos \\nhttps://t.co/LBQEty70Co',\n",
       "  datetime.datetime(2020, 11, 11, 13, 58, 6),\n",
       "  'Ibagué',\n",
       "  'Ibague, Tolima',\n",
       "  1326524604911902721,\n",
       "  'https://twitter.com/i/web/status/1326524604911902721'],\n",
       " ['En el marco del Gran Foro Mundial de Artes, Cultura, Creatividad y Tecnología, el presidente Iván Duque Márquez aseguró que este ha sido el año más difícil para la cultura y la economía naranja  en la historia reciente del país.\\nhttps://t.co/Ncb2VuktJo',\n",
       "  datetime.datetime(2020, 11, 11, 1, 0, 1),\n",
       "  'Ibagué',\n",
       "  'Ibague - Colombia',\n",
       "  1326328795352211458,\n",
       "  'https://twitter.com/i/web/status/1326328795352211458'],\n",
       " ['Hoy presentes en la Macrorrueda de las Américas 2020, buscando oportunidades para aumentar las exportaciones de café #caldense y colombiano. El sector de la agroindustria continúa dinamizando la economía del país. #MacrorruedaAméricas2020 @PROCOLOMBIACO @JulianaVillegas https://t.co/NxvtX3H0OG',\n",
       "  datetime.datetime(2020, 11, 6, 19, 35, 31),\n",
       "  'Ibagué',\n",
       "  'Manizales, Colombia',\n",
       "  1324797581667540997,\n",
       "  'https://twitter.com/i/web/status/1324797581667540997'],\n",
       " ['Más de 300 pedalistas ya ruedan en la #VueltaSeniorMáster #IbaguéVibra. Reactivamos la economía a través del deporte y nos posicionamos como la capital deportiva del centro del país. @Andreshurtado_7 https://t.co/jYG1e2Ohbx',\n",
       "  datetime.datetime(2020, 11, 6, 18, 19, 3),\n",
       "  'Ibagué',\n",
       "  'Ibagué',\n",
       "  1324778335826776064,\n",
       "  'https://twitter.com/i/web/status/1324778335826776064'],\n",
       " ['Leo puras críticas acá sobre las personas pendientes a las elecciones de USA y lo cierto es que a todo el mundo le debería importar, son un país del cual directa e indirectamente dependen muchos otros países e influye en nuestra economía y política.',\n",
       "  datetime.datetime(2020, 11, 5, 15, 56, 2),\n",
       "  'Ibagué',\n",
       "  'Armenia, Quindío',\n",
       "  1324379956521127937,\n",
       "  'https://twitter.com/i/web/status/1324379956521127937'],\n",
       " ['#Economía || COTELCO Risaralda celebró la aprobación en primer debate del proyecto de Ley de Turismo, con la cual se busca darle fuerza a la reactivación económica de este importante sector productivo del país.\\n\\n#IntegramosLaRegión https://t.co/L7CT5tfFEt',\n",
       "  datetime.datetime(2020, 11, 11, 18, 46, 7),\n",
       "  'Manizales',\n",
       "  'Eje Cafetero',\n",
       "  1326597088390615041,\n",
       "  'https://twitter.com/i/web/status/1326597088390615041'],\n",
       " ['@DANE_Colombia publicó un nuevo libro sobre brechas de género en el mercado colombiano para estudiar los avances tras 10 años de la promulgación de la Ley 1413 que regula la inclusión de la economía para medir la contribución de las mujeres al desarrollo económico del país.',\n",
       "  datetime.datetime(2020, 11, 11, 13, 13, 15),\n",
       "  'Manizales',\n",
       "  'Manizales - Colombia',\n",
       "  1326513318761287680,\n",
       "  'https://twitter.com/i/web/status/1326513318761287680'],\n",
       " ['Hoy presentes en la Macrorrueda de las Américas 2020, buscando oportunidades para aumentar las exportaciones de café #caldense y colombiano. El sector de la agroindustria continúa dinamizando la economía del país. #MacrorruedaAméricas2020 @PROCOLOMBIACO @JulianaVillegas https://t.co/NxvtX3H0OG',\n",
       "  datetime.datetime(2020, 11, 6, 19, 35, 31),\n",
       "  'Manizales',\n",
       "  'Manizales, Colombia',\n",
       "  1324797581667540997,\n",
       "  'https://twitter.com/i/web/status/1324797581667540997'],\n",
       " ['Leo puras críticas acá sobre las personas pendientes a las elecciones de USA y lo cierto es que a todo el mundo le debería importar, son un país del cual directa e indirectamente dependen muchos otros países e influye en nuestra economía y política.',\n",
       "  datetime.datetime(2020, 11, 5, 15, 56, 2),\n",
       "  'Manizales',\n",
       "  'Armenia, Quindío',\n",
       "  1324379956521127937,\n",
       "  'https://twitter.com/i/web/status/1324379956521127937'],\n",
       " ['Educación y Economía, la apuesta de las universidades del país https://t.co/Uu44BoD8pF',\n",
       "  datetime.datetime(2020, 11, 5, 12, 26, 34),\n",
       "  'Manizales',\n",
       "  'Manizales',\n",
       "  1324327244412653570,\n",
       "  'https://twitter.com/i/web/status/1324327244412653570'],\n",
       " ['#CaracolRadioManizales1180AM Educación y Economía, la apuesta de las universidades del país. https://t.co/hVNH9mTHAj',\n",
       "  datetime.datetime(2020, 11, 5, 12, 23, 35),\n",
       "  'Manizales',\n",
       "  'Manizales, Colombia',\n",
       "  1324326491790999552,\n",
       "  'https://twitter.com/i/web/status/1324326491790999552'],\n",
       " ['@manuelapesca @GustavoBolivar En el sentido de pensar en que si se quiere una reapertura económica, como por ejemplo el sector turístico, no representar un foco de contagio magnificado que les impida a ciudadanos con gobernantes más serios la entrada y el aporte a la economía del país',\n",
       "  datetime.datetime(2020, 11, 5, 2, 41, 9),\n",
       "  'Manizales',\n",
       "  'Manizales, Caldas',\n",
       "  1324179919652458499,\n",
       "  'https://twitter.com/i/web/status/1324179919652458499'],\n",
       " ['De las 39 actividades industriales, 28 registraron variaciones negativas en septiembre. La fabricación de vehículos y motores se desplomó un 30,5%. ¿Y el comercio minorista? Le contamos:\\n\\nhttps://t.co/8ez7Rl8aMk',\n",
       "  datetime.datetime(2020, 11, 13, 23, 10),\n",
       "  'Villavicencio',\n",
       "  'Bogotá, Colombia',\n",
       "  1327388271471702016,\n",
       "  'https://twitter.com/i/web/status/1327388271471702016'],\n",
       " ['El Ministerio de Hacienda informó que el comité consultivo de la regla fiscal se reunió hoy, con el fin de realizar el seguimiento normativo a las finanzas públicas del país https://t.co/YgQRe5x2c3',\n",
       "  datetime.datetime(2020, 11, 13, 22, 17, 12),\n",
       "  'Villavicencio',\n",
       "  'Bogotá, Colombia',\n",
       "  1327374986856845312,\n",
       "  'https://twitter.com/i/web/status/1327374986856845312'],\n",
       " ['*Trump dice que no sabe qué administración estará en el futuro, pero qué él no cerrará la economía del país.Para los que creían que Trump iba a incendiar todo, no.Da a entender que si las cortes fallan en su contra entregará el poder. De eso se trata la democracia.* https://t.co/AArOdCGeqg https://t.co/jAk6MqAXIL',\n",
       "  datetime.datetime(2020, 11, 13, 21, 52, 4),\n",
       "  'Villavicencio',\n",
       "  'Venezuela',\n",
       "  1327368658918797314,\n",
       "  'https://twitter.com/i/web/status/1327368658918797314'],\n",
       " ['@diegomatteus ¿Qué es esto? pongan a esos músicos a pintar colegios ó arreglar carreteras ó hacer algo útil. Y al cerdo de Duque a trabajar por los líderes sociales asesinados y por la economía del país. Duquecito muy rumbero pero poco trabajo (de pronto se le ensucian sus zapaticos)',\n",
       "  datetime.datetime(2020, 11, 13, 17, 32),\n",
       "  'Villavicencio',\n",
       "  'Bogota',\n",
       "  1327303211204669442,\n",
       "  'https://twitter.com/i/web/status/1327303211204669442'],\n",
       " ['La Ley de Reactivación Cultural debe implementar el Plan de Emergencia elaborado por agremiaciones artísticas del país, desconocer al sector pone en evidencia la incompetencia de su proyecto.\\nLa economía🍊 es el más grande desacierto y a las patadas la quieren implementar.',\n",
       "  datetime.datetime(2020, 11, 13, 17, 20, 51),\n",
       "  'Villavicencio',\n",
       "  'Bogotá - Colombia',\n",
       "  1327300404967825410,\n",
       "  'https://twitter.com/i/web/status/1327300404967825410'],\n",
       " ['Según un reciente informe del World Inequiality Database, la desigualdad en América Latina es muy alta y está subestimada en las mediciones oficiales basadas solamente en datos de encuestas.\\n\\n¿Qué opina sobre esto?\\n\\nhttps://t.co/9HnUnSo9Vm',\n",
       "  datetime.datetime(2020, 11, 13, 17, 10),\n",
       "  'Villavicencio',\n",
       "  'Bogotá, Colombia',\n",
       "  1327297674803023872,\n",
       "  'https://twitter.com/i/web/status/1327297674803023872'],\n",
       " ['Centrales obreras piden salario mínimo de $1.00.000, renta básica y subsidio a pymes. Es hora de que @IvanDuque @MintrabajoCol y gremios piensen en las y los trabajadores y en la economía del país\\n https://t.co/8bzCeHbJlB',\n",
       "  datetime.datetime(2020, 11, 13, 15, 38, 6),\n",
       "  'Villavicencio',\n",
       "  'Chapinero, Bogotá',\n",
       "  1327274549352796161,\n",
       "  'https://twitter.com/i/web/status/1327274549352796161'],\n",
       " ['Ahora entiendo cuando mi papá decía: “La economía del país está reflejada en mis bolsillos”',\n",
       "  datetime.datetime(2020, 11, 13, 12, 30, 25),\n",
       "  'Villavicencio',\n",
       "  'Villavicencio, Colombia',\n",
       "  1327227316997648385,\n",
       "  'https://twitter.com/i/web/status/1327227316997648385'],\n",
       " ['#PuenteFestivo| \"La importancia de la reactivación en el turismo y en el Sector Transporte tiene gran impacto para la economía del país, sin embargo, esta reactivación debe realizarse bajo unas medidas de autocuidado\": Viceministra, @CarmenLigiaV https://t.co/c2HdQbePLa',\n",
       "  datetime.datetime(2020, 11, 13, 12, 24, 50),\n",
       "  'Villavicencio',\n",
       "  'Bogotá, Colombia',\n",
       "  1327225909296967682,\n",
       "  'https://twitter.com/i/web/status/1327225909296967682'],\n",
       " ['#AlAireEnLaFM | Luis Fernando Mejía, director ejecutivo de Fedesarrollo: \"Colombia ha tenido la misma moneda desde hace mucho tiempo por que es un país que no ha sufrido hiperinflación a diferencia de países como Venezuela\"\\n\\nhttps://t.co/DD689c3LZM',\n",
       "  datetime.datetime(2020, 11, 13, 11, 32, 22),\n",
       "  'Villavicencio',\n",
       "  'Bogotá, Colombia',\n",
       "  1327212707158908929,\n",
       "  'https://twitter.com/i/web/status/1327212707158908929'],\n",
       " ['El compromiso es con nuestras #MujeresReales #lideresasemprendedoras que buscan alternativas de crear fuentes de ingreso que reactiven la economía del país. Gracias a nuestras @lideresasdel #Ecuador @AnaConcomindaba @Saritaberrones por su valioso aporte. https://t.co/wNGsI1NhCg',\n",
       "  datetime.datetime(2020, 11, 13, 23, 17, 30),\n",
       "  'Neiva',\n",
       "  'Ecuador',\n",
       "  1327390158782652423,\n",
       "  'https://twitter.com/i/web/status/1327390158782652423'],\n",
       " ['\"No entiendo el sentido de prioridades (...) estamos en la peor crisis económica del país en 100 años\": Julián Arévalo, decano facultad de economía Universidad Externado, sobre quitarle tres ceros al peso colombiano. #SemanaNoticias\\n\\nDetalles: https://t.co/aeF4kfMOEC https://t.co/TQ04SX08FS',\n",
       "  datetime.datetime(2020, 11, 13, 23, 17, 6),\n",
       "  'Neiva',\n",
       "  'Colombia',\n",
       "  1327390061080571904,\n",
       "  'https://twitter.com/i/web/status/1327390061080571904'],\n",
       " ['#EconomíaVioleta | El crédito #SúperMujerRural  permite reactivar la economía del país, generar empleo, mejorar las condiciones de vida y sobre todo visibilizar aún más el trabajo de nuestras lideresas del campo. #SembramosFuturo https://t.co/IpYzn2YIFa',\n",
       "  datetime.datetime(2020, 11, 13, 22, 50),\n",
       "  'Neiva',\n",
       "  'Ecuador',\n",
       "  1327383241402310657,\n",
       "  'https://twitter.com/i/web/status/1327383241402310657'],\n",
       " ['#ColcobInforma Nuevo ciclo del #PAEF Desde la tercera semana de noviembre los interesados podrán solicitar el beneficio económico para proteger el empleo en el país. @Portafolioco 🧐 #PAEF\\n\\nhttps://t.co/EcoE0nfPwE',\n",
       "  datetime.datetime(2020, 11, 13, 22, 44, 35),\n",
       "  'Neiva',\n",
       "  'Colombia',\n",
       "  1327381876311543809,\n",
       "  'https://twitter.com/i/web/status/1327381876311543809'],\n",
       " ['@EmmaClaudiaC @AngelaSanchezL @cifrasyconcepto Estamos seguros que será un trendo impulso para la economia del país',\n",
       "  datetime.datetime(2020, 11, 13, 22, 32, 26),\n",
       "  'Neiva',\n",
       "  'Colombia',\n",
       "  1327378818479362049,\n",
       "  'https://twitter.com/i/web/status/1327378818479362049'],\n",
       " ['#EconomíaVioleta |El crédito #SúperMujerRural  permite reactivar la economía del país, generar empleo, mejorar las condiciones de vida y sobre todo visibilizar aún más el trabajo de nuestras lideresas del campo. #SembramosFuturo https://t.co/t62gTb7gmZ',\n",
       "  datetime.datetime(2020, 11, 13, 21, 31, 33),\n",
       "  'Neiva',\n",
       "  'Ecuador',\n",
       "  1327363498167373828,\n",
       "  'https://twitter.com/i/web/status/1327363498167373828'],\n",
       " ['EUROPA\\nDe acuerdo al Ministro de Economía de Alemania, el país vio recuperación económica sostenida hasta el mes de octubre, pero se ha observado una clara ralentización a partir de agosto por cuenta de las restricciones implementadas para frenar la propagación del Coronavirus',\n",
       "  datetime.datetime(2020, 11, 13, 21, 27, 6),\n",
       "  'Neiva',\n",
       "  'colombia',\n",
       "  1327362378317656066,\n",
       "  'https://twitter.com/i/web/status/1327362378317656066'],\n",
       " ['#EconomíaVioleta |El crédito #SúperMujerRural  permite reactivar la economía del país, generar empleo, mejorar las condiciones de vida y sobre todo visibilizar aún más el trabajo de nuestras lideresas del campo. #SembramosFuturo https://t.co/2cKIF3kbEj',\n",
       "  datetime.datetime(2020, 11, 13, 20, 11, 14),\n",
       "  'Neiva',\n",
       "  'Ecuador',\n",
       "  1327343283576721409,\n",
       "  'https://twitter.com/i/web/status/1327343283576721409'],\n",
       " ['El departamento de Risaralda se posiciona como eje logístico gracias a su infraestructura y a su posición geográfica que lo ubica cerca del principal puerto del país y a las ciudades más importantes.\\n\\nInformate con Kargoru.\\n\\nhttps://t.co/fCav4dLNyZ https://t.co/L76XrmjlLM',\n",
       "  datetime.datetime(2020, 11, 13, 20, 10, 59),\n",
       "  'Neiva',\n",
       "  'Colombia',\n",
       "  1327343221698162688,\n",
       "  'https://twitter.com/i/web/status/1327343221698162688'],\n",
       " ['Reactivar la economía del país es una de las propuestas académicas de @UTEG_ec a través de sus proyectos de vinculación como el convenio con la Comuna de San Pedro. Conoce cómo lo hicimos👇https://t.co/XRpDevOXjC\\n\\n#FundacionGaloCabanillaSanchez #mejorandovidas #PiensaEcuador https://t.co/tTupbySJX4',\n",
       "  datetime.datetime(2020, 11, 13, 20, 0, 1),\n",
       "  'Neiva',\n",
       "  'Ecuador',\n",
       "  1327340463330787328,\n",
       "  'https://twitter.com/i/web/status/1327340463330787328'],\n",
       " ['Una de las empresas de iluminación más importante del país, la cordobesa Ximenez Group, mantiene su agenda https://t.co/SMrIp1o7ge Por @fermincaba https://t.co/0XTZy3fulB',\n",
       "  datetime.datetime(2020, 11, 12, 15, 15, 19),\n",
       "  'Armenia',\n",
       "  'Andalucía',\n",
       "  1326906425080225795,\n",
       "  'https://twitter.com/i/web/status/1326906425080225795'],\n",
       " ['#Economía || COTELCO Risaralda celebró la aprobación en primer debate del proyecto de Ley de Turismo, con la cual se busca darle fuerza a la reactivación económica de este importante sector productivo del país.\\n\\n#IntegramosLaRegión https://t.co/L7CT5tfFEt',\n",
       "  datetime.datetime(2020, 11, 11, 18, 46, 7),\n",
       "  'Armenia',\n",
       "  'Eje Cafetero',\n",
       "  1326597088390615041,\n",
       "  'https://twitter.com/i/web/status/1326597088390615041'],\n",
       " ['#Economía | El Gobierno nacional hizo un llamado a gobernadores y alcaldes del país para que ese día, 21 de noviembre, se suspenda la venta presencial de electrodomésticos, computadores y equipos de comunicaciones. #FelizMiércoles #FelizMiercolesATodos \\nhttps://t.co/LBQEty70Co',\n",
       "  datetime.datetime(2020, 11, 11, 13, 58, 6),\n",
       "  'Armenia',\n",
       "  'Ibague, Tolima',\n",
       "  1326524604911902721,\n",
       "  'https://twitter.com/i/web/status/1326524604911902721'],\n",
       " ['@DANE_Colombia publicó un nuevo libro sobre brechas de género en el mercado colombiano para estudiar los avances tras 10 años de la promulgación de la Ley 1413 que regula la inclusión de la economía para medir la contribución de las mujeres al desarrollo económico del país.',\n",
       "  datetime.datetime(2020, 11, 11, 13, 13, 15),\n",
       "  'Armenia',\n",
       "  'Manizales - Colombia',\n",
       "  1326513318761287680,\n",
       "  'https://twitter.com/i/web/status/1326513318761287680'],\n",
       " ['La Junta de Andalucía busca una solución para Abengoa con el aval de todos los grupos del Parlamento https://t.co/JIEWzaBAT8 a través de @el_pais',\n",
       "  datetime.datetime(2020, 11, 11, 11, 26, 48),\n",
       "  'Armenia',\n",
       "  'Andalucía',\n",
       "  1326486528940515328,\n",
       "  'https://twitter.com/i/web/status/1326486528940515328'],\n",
       " ['En el marco del Gran Foro Mundial de Artes, Cultura, Creatividad y Tecnología, el presidente Iván Duque Márquez aseguró que este ha sido el año más difícil para la cultura y la economía naranja  en la historia reciente del país.\\nhttps://t.co/Ncb2VuktJo',\n",
       "  datetime.datetime(2020, 11, 11, 1, 0, 1),\n",
       "  'Armenia',\n",
       "  'Ibague - Colombia',\n",
       "  1326328795352211458,\n",
       "  'https://twitter.com/i/web/status/1326328795352211458'],\n",
       " ['Hoy presentes en la Macrorrueda de las Américas 2020, buscando oportunidades para aumentar las exportaciones de café #caldense y colombiano. El sector de la agroindustria continúa dinamizando la economía del país. #MacrorruedaAméricas2020 @PROCOLOMBIACO @JulianaVillegas https://t.co/NxvtX3H0OG',\n",
       "  datetime.datetime(2020, 11, 6, 19, 35, 31),\n",
       "  'Armenia',\n",
       "  'Manizales, Colombia',\n",
       "  1324797581667540997,\n",
       "  'https://twitter.com/i/web/status/1324797581667540997'],\n",
       " ['Más de 300 pedalistas ya ruedan en la #VueltaSeniorMáster #IbaguéVibra. Reactivamos la economía a través del deporte y nos posicionamos como la capital deportiva del centro del país. @Andreshurtado_7 https://t.co/jYG1e2Ohbx',\n",
       "  datetime.datetime(2020, 11, 6, 18, 19, 3),\n",
       "  'Armenia',\n",
       "  'Ibagué',\n",
       "  1324778335826776064,\n",
       "  'https://twitter.com/i/web/status/1324778335826776064'],\n",
       " ['Leo puras críticas acá sobre las personas pendientes a las elecciones de USA y lo cierto es que a todo el mundo le debería importar, son un país del cual directa e indirectamente dependen muchos otros países e influye en nuestra economía y política.',\n",
       "  datetime.datetime(2020, 11, 5, 15, 56, 2),\n",
       "  'Armenia',\n",
       "  'Armenia, Quindío',\n",
       "  1324379956521127937,\n",
       "  'https://twitter.com/i/web/status/1324379956521127937'],\n",
       " ['Educación y Economía, la apuesta de las universidades del país https://t.co/Uu44BoD8pF',\n",
       "  datetime.datetime(2020, 11, 5, 12, 26, 34),\n",
       "  'Armenia',\n",
       "  'Manizales',\n",
       "  1324327244412653570,\n",
       "  'https://twitter.com/i/web/status/1324327244412653570'],\n",
       " ['Lo que hay que hacer es empezar a depender menos del campo.\\nTransformar el país a ese nivel.\\nNo va a pasar nunca. https://t.co/JUDPtpmMhs',\n",
       "  datetime.datetime(2020, 11, 12, 12, 27, 57),\n",
       "  'Valledupar',\n",
       "  'La Nube',\n",
       "  1326864306969972736,\n",
       "  'https://twitter.com/i/web/status/1326864306969972736'],\n",
       " ['@lunadavid @DANE_Colombia El COVID-19 nos ha pegado muy duro a la economía, el empleo del país, pero más a las mujeres!',\n",
       "  datetime.datetime(2020, 11, 10, 16, 0, 58),\n",
       "  'Valledupar',\n",
       "  'COLOMBIA',\n",
       "  1326193140169109504,\n",
       "  'https://twitter.com/i/web/status/1326193140169109504'],\n",
       " ['#Economía \\n\"En octubre Valledupar fue la 5a ciudad con menor inflación del país, con -0.26%\",\\n\\n@Jlarrazabalp https://t.co/2KDePerYE0',\n",
       "  datetime.datetime(2020, 11, 9, 12, 55, 35),\n",
       "  'Valledupar',\n",
       "  'Valledupar, Cesar',\n",
       "  1325784098212818944,\n",
       "  'https://twitter.com/i/web/status/1325784098212818944'],\n",
       " ['Produce \"maravillas\":\\n\\n▪︎engañar\\n▪︎tomarse lo ajeno\\n▪︎recortar la libertad\\n▪︎constituir un partido único\\n▪︎perseguir a los opositores\\n▪︎cerrar medios \\n▪︎estatizar la economía\\n▪︎ideologizar la educación\\n▪︎forzar a huir del país\\n▪︎llamar tropas extranjeras\\n... https://t.co/49SIwWapX7',\n",
       "  datetime.datetime(2020, 11, 8, 21, 56, 36),\n",
       "  'Valledupar',\n",
       "  'Colombia/España',\n",
       "  1325557859665502209,\n",
       "  'https://twitter.com/i/web/status/1325557859665502209'],\n",
       " ['@Javier_Hidalgo @AccionNacional @LuchoXBolivia @JoeBiden Felicitar a un gobierno de un país bananero cuya relación comercial es menor que la de cualquier estado de la republica con la federación, en lugar de hacerlo con la economía más poderosa del mundo y que es nuestro principal socio comercial, la neta es un tiro en el pie.',\n",
       "  datetime.datetime(2020, 11, 8, 17, 10, 59),\n",
       "  'Valledupar',\n",
       "  'En el ombligo de la Luna',\n",
       "  1325485984184639488,\n",
       "  'https://twitter.com/i/web/status/1325485984184639488'],\n",
       " ['“Es de gran impacto lo que ha generado este programa que ya cumple 20 años, atendiendo las necesidades del sector productivo del país, con beneficios para la sociedad en general y con miras al crecimiento de una economía basada en el conocimiento” William Orozco Daza, dir. SNFT https://t.co/EMHSc3CAwT',\n",
       "  datetime.datetime(2020, 11, 8, 2, 1, 53),\n",
       "  'Valledupar',\n",
       "  'Valledupar, Cesar ',\n",
       "  1325257202991583233,\n",
       "  'https://twitter.com/i/web/status/1325257202991583233'],\n",
       " ['Distinguido Señor Biden @JoeBiden, como ciudadano mexicano y consciente del papel que juega nuestro país en la geopolítica y economía de Norteamérica, reciba usted el reconocimiento a su triunfo electoral. \\n\\nLos mexicanos, no avalamos la postura de nuestro ignorante gobernante.',\n",
       "  datetime.datetime(2020, 11, 8, 1, 58, 51),\n",
       "  'Valledupar',\n",
       "  'En el ombligo de la luna',\n",
       "  1325256436234924032,\n",
       "  'https://twitter.com/i/web/status/1325256436234924032'],\n",
       " ['Con la caída de la TRM del dólar (de casi COP $100 el día de hoy) y del precio del petróleo, es hora que la economía colombiana deje depender del petróleo y empiece a depender del agro. Colombia es un país productor agrícola de primera, debe industrializar la producción agrícola.',\n",
       "  datetime.datetime(2020, 11, 5, 20, 57, 24),\n",
       "  'Valledupar',\n",
       "  'Colombia',\n",
       "  1324455800039985153,\n",
       "  'https://twitter.com/i/web/status/1324455800039985153'],\n",
       " ['SE LE CAYO LA VUELTA AL PRESENTADOR DEL MAGAZÍN D LAS 6:00P.M. PARA COMPLACER A SU QUERIDA HERMANITA Y EL PAÍS LE QUEDO DEBIENDO A @Avianca UN GRAN FAVOR AL NO ACEPTAR EL CRÉDITO... \\nLA VERDAD ES Q NUNCA SE LO IBAN HACER Y SE RESIGNARON...🙈🙉🙊\\nhttps://t.co/apQZLD2U6L',\n",
       "  datetime.datetime(2020, 11, 12, 10, 24, 43),\n",
       "  'Montería',\n",
       "  'Monteeia',\n",
       "  1326833295829598208,\n",
       "  'https://twitter.com/i/web/status/1326833295829598208'],\n",
       " ['@jflafaurie @andreanimalidad @RevistaSemana La señora vegana porque no propone El día sin mariguana, deberían atacar a sectores que afectan realmente la salud y el medio ambiente; el sector ganadero no ha parado durante la pandemia son Miles de familias trabajando por mantener la economía del país y el ambiente se recupero',\n",
       "  datetime.datetime(2020, 11, 10, 23, 7, 30),\n",
       "  'Montería',\n",
       "  'Montería, Colombia',\n",
       "  1326300480109096961,\n",
       "  'https://twitter.com/i/web/status/1326300480109096961'],\n",
       " ['@PaoHerreraC Ud donde vive en Venezuela por que en Cilombia tenemos a @IvanDuque , quien le esta dando durisimo al narcotrafico, terminando obras que estaban estancadas, tunel de la linea....., enfrentando el Covid, tratando de salvar la economia del pais y gobernando. Periodista irresponsabl',\n",
       "  datetime.datetime(2020, 11, 5, 12, 39, 22),\n",
       "  'Montería',\n",
       "  'Sincelejo, Colombia',\n",
       "  1324330465805934594,\n",
       "  'https://twitter.com/i/web/status/1324330465805934594'],\n",
       " ['@jflafaurie @andreanimalidad @RevistaSemana La señora vegana porque no propone El día sin mariguana, deberían atacar a sectores que afectan realmente la salud y el medio ambiente; el sector ganadero no ha parado durante la pandemia son Miles de familias trabajando por mantener la economía del país y el ambiente se recupero',\n",
       "  datetime.datetime(2020, 11, 10, 23, 7, 30),\n",
       "  'Sincelejo',\n",
       "  'Montería, Colombia',\n",
       "  1326300480109096961,\n",
       "  'https://twitter.com/i/web/status/1326300480109096961'],\n",
       " ['@PaoHerreraC Ud donde vive en Venezuela por que en Cilombia tenemos a @IvanDuque , quien le esta dando durisimo al narcotrafico, terminando obras que estaban estancadas, tunel de la linea....., enfrentando el Covid, tratando de salvar la economia del pais y gobernando. Periodista irresponsabl',\n",
       "  datetime.datetime(2020, 11, 5, 12, 39, 22),\n",
       "  'Sincelejo',\n",
       "  'Sincelejo, Colombia',\n",
       "  1324330465805934594,\n",
       "  'https://twitter.com/i/web/status/1324330465805934594'],\n",
       " ['Felicitamos a @Sarosava por su nombramiento en tan importante sector de la economía del país. Le deseamos éxitos en su gestión. #MujeresMineras 👩\\u200d🏭 https://t.co/tGlgwTjlIT',\n",
       "  datetime.datetime(2020, 11, 9, 23, 1, 49),\n",
       "  'Popayán',\n",
       "  'Santander, Colombia',\n",
       "  1325936662099189767,\n",
       "  'https://twitter.com/i/web/status/1325936662099189767'],\n",
       " ['#Bienvenida doctora Sandra. El mejor de los éxitos en este nuevo reto que emprende en esta importante cartera para la economía, desarrollo, equidad social y #ReactivaciónEconómica del país. #SiempreAdelante como decimos en #Santander. @CeDemocratico @MinEnergiaCo https://t.co/y6MQtFJwTU',\n",
       "  datetime.datetime(2020, 11, 9, 20, 44, 21),\n",
       "  'Popayán',\n",
       "  'Santander, Colombia',\n",
       "  1325902065122631680,\n",
       "  'https://twitter.com/i/web/status/1325902065122631680'],\n",
       " ['@SISSUUNAD_ZCBC @SISSU_UNAD @SISSUUNAD_ZCAR @SISSUUNAD_ZCBOY @SISSUUNAD_ZCSUR @SISSUUNAD_ZAO @SISSUUNAD_ZCORI @SISSUUNAD_ZOCC Los retos son muchos, pero siempre se debe dar una mirada a los que están aportando realmente a la economía y desarrollo del pais, nuestos agricultores y emprendedores dan la batalla por ser reconocidos y apoyados y sobretodo  en estos momentos de contingencia..',\n",
       "  datetime.datetime(2020, 11, 13, 21, 28, 11),\n",
       "  'Tunja',\n",
       "  'Zipaquira',\n",
       "  1327362650368520197,\n",
       "  'https://twitter.com/i/web/status/1327362650368520197'],\n",
       " ['Obligatoria lectura, análisis de @DiegoRDorado \"El país enfrenta varios desafíos de cara a la reactivación económica. El más importante: entender los nuevos hábitos de consumo, lo que invita a tener presente la economía del comportamiento https://t.co/6IvL3Uz66H',\n",
       "  datetime.datetime(2020, 11, 9, 17, 58, 56),\n",
       "  'Tunja',\n",
       "  'TUNJA - BOYACÁ',\n",
       "  1325860440593862661,\n",
       "  'https://twitter.com/i/web/status/1325860440593862661'],\n",
       " ['Lo que hay que hacer es empezar a depender menos del campo.\\nTransformar el país a ese nivel.\\nNo va a pasar nunca. https://t.co/JUDPtpmMhs',\n",
       "  datetime.datetime(2020, 11, 12, 12, 27, 57),\n",
       "  'Ríohacha',\n",
       "  'La Nube',\n",
       "  1326864306969972736,\n",
       "  'https://twitter.com/i/web/status/1326864306969972736'],\n",
       " ['@lunadavid @DANE_Colombia El COVID-19 nos ha pegado muy duro a la economía, el empleo del país, pero más a las mujeres!',\n",
       "  datetime.datetime(2020, 11, 10, 16, 0, 58),\n",
       "  'Ríohacha',\n",
       "  'COLOMBIA',\n",
       "  1326193140169109504,\n",
       "  'https://twitter.com/i/web/status/1326193140169109504'],\n",
       " ['La Costa Caribe y los Llanos Orientales son las regiones del país con más asignación de regalías. $448.000 millones para La Guajira! Tercer departamento en el Caribe con mayor asignación! Ojo a la priorización de los proyectos y a capacidad institucional.\\n\\nhttps://t.co/llj5iYVZdv',\n",
       "  datetime.datetime(2020, 11, 9, 13, 4, 57),\n",
       "  'Ríohacha',\n",
       "  'Riohacha, Colombia',\n",
       "  1325786455185231878,\n",
       "  'https://twitter.com/i/web/status/1325786455185231878'],\n",
       " ['(1/2) El #ParqueTayrona es la principal reserva del País, dinamizador de la economía en @SantaMartaDTCH y la región en virtud de la cantidad de turistas que recibe por año. Por eso solicité al Presidente @IvanDuque en una carta firmada por miembros de la #BancadaCaribe\\n\\nSigue 👇 https://t.co/SHaSDkJ97u',\n",
       "  datetime.datetime(2020, 11, 6, 12, 58, 43),\n",
       "  'Ríohacha',\n",
       "  'Santa Marta (COLOMBIA)',\n",
       "  1324697722486738945,\n",
       "  'https://twitter.com/i/web/status/1324697722486738945'],\n",
       " ['¡En 1903 una decisión que terminó afectando la economía del país! https://t.co/TzinUBH1FY',\n",
       "  datetime.datetime(2020, 11, 7, 0, 10, 45),\n",
       "  'Leticia',\n",
       "  'Leticia, Colombia',\n",
       "  1324866845053243393,\n",
       "  'https://twitter.com/i/web/status/1324866845053243393'],\n",
       " ['Aun cuando ya han comprobado que no existe peculado, estos Políticos siguen con esta presión y persecución sin importarle el daño que puedan causarle a la economía del país #SingueNoEsDelito @pencaladh https://t.co/v1ef0WEe4M',\n",
       "  datetime.datetime(2020, 11, 12, 15, 12, 55),\n",
       "  'San Andrés',\n",
       "  'San Andrés, Colombia',\n",
       "  1326905823927410693,\n",
       "  'https://twitter.com/i/web/status/1326905823927410693'],\n",
       " ['J. Guaido, no está preso porque tenga protección de los gringos, anda libre porque es la mampara perfecta, mientras nos distraemos con esa rata, no vemos otras ratas que vestidas de rojo han hecho tanto o más daño a la economia del pais, estan y continuarán impunes. https://t.co/tKQ6tkJVkp',\n",
       "  datetime.datetime(2020, 11, 6, 21, 44, 57),\n",
       "  'Puerto Carreño',\n",
       "  'Isla Margarita, Venezuela',\n",
       "  1324830153789374467,\n",
       "  'https://twitter.com/i/web/status/1324830153789374467']]"
      ]
     },
     "execution_count": 6,
     "metadata": {},
     "output_type": "execute_result"
    }
   ],
   "source": [
    "all_tweets"
   ]
  },
  {
   "cell_type": "code",
   "execution_count": 9,
   "metadata": {
    "scrolled": false
   },
   "outputs": [
    {
     "data": {
      "text/html": [
       "<div>\n",
       "<style scoped>\n",
       "    .dataframe tbody tr th:only-of-type {\n",
       "        vertical-align: middle;\n",
       "    }\n",
       "\n",
       "    .dataframe tbody tr th {\n",
       "        vertical-align: top;\n",
       "    }\n",
       "\n",
       "    .dataframe thead th {\n",
       "        text-align: right;\n",
       "    }\n",
       "</style>\n",
       "<table border=\"1\" class=\"dataframe\">\n",
       "  <thead>\n",
       "    <tr style=\"text-align: right;\">\n",
       "      <th></th>\n",
       "      <th>tweet</th>\n",
       "      <th>date</th>\n",
       "      <th>city</th>\n",
       "      <th>place</th>\n",
       "      <th>id</th>\n",
       "      <th>link</th>\n",
       "    </tr>\n",
       "  </thead>\n",
       "  <tbody>\n",
       "    <tr>\n",
       "      <td>0</td>\n",
       "      <td>De las 39 actividades industriales, 28 registr...</td>\n",
       "      <td>2020-11-13 23:10:00</td>\n",
       "      <td>Bogotá</td>\n",
       "      <td>Bogotá, Colombia</td>\n",
       "      <td>1327388271471702016</td>\n",
       "      <td>https://twitter.com/i/web/status/1327388271471...</td>\n",
       "    </tr>\n",
       "    <tr>\n",
       "      <td>1</td>\n",
       "      <td>El Ministerio de Hacienda informó que el comit...</td>\n",
       "      <td>2020-11-13 22:17:12</td>\n",
       "      <td>Bogotá</td>\n",
       "      <td>Bogotá, Colombia</td>\n",
       "      <td>1327374986856845312</td>\n",
       "      <td>https://twitter.com/i/web/status/1327374986856...</td>\n",
       "    </tr>\n",
       "    <tr>\n",
       "      <td>2</td>\n",
       "      <td>*Trump dice que no sabe qué administración est...</td>\n",
       "      <td>2020-11-13 21:52:04</td>\n",
       "      <td>Bogotá</td>\n",
       "      <td>Venezuela</td>\n",
       "      <td>1327368658918797314</td>\n",
       "      <td>https://twitter.com/i/web/status/1327368658918...</td>\n",
       "    </tr>\n",
       "    <tr>\n",
       "      <td>3</td>\n",
       "      <td>@SISSUUNAD_ZCBC @SISSU_UNAD @SISSUUNAD_ZCAR @S...</td>\n",
       "      <td>2020-11-13 21:28:11</td>\n",
       "      <td>Bogotá</td>\n",
       "      <td>Zipaquira</td>\n",
       "      <td>1327362650368520197</td>\n",
       "      <td>https://twitter.com/i/web/status/1327362650368...</td>\n",
       "    </tr>\n",
       "    <tr>\n",
       "      <td>4</td>\n",
       "      <td>@diegomatteus ¿Qué es esto? pongan a esos músi...</td>\n",
       "      <td>2020-11-13 17:32:00</td>\n",
       "      <td>Bogotá</td>\n",
       "      <td>Bogota</td>\n",
       "      <td>1327303211204669442</td>\n",
       "      <td>https://twitter.com/i/web/status/1327303211204...</td>\n",
       "    </tr>\n",
       "  </tbody>\n",
       "</table>\n",
       "</div>"
      ],
      "text/plain": [
       "                                               tweet                date  \\\n",
       "0  De las 39 actividades industriales, 28 registr... 2020-11-13 23:10:00   \n",
       "1  El Ministerio de Hacienda informó que el comit... 2020-11-13 22:17:12   \n",
       "2  *Trump dice que no sabe qué administración est... 2020-11-13 21:52:04   \n",
       "3  @SISSUUNAD_ZCBC @SISSU_UNAD @SISSUUNAD_ZCAR @S... 2020-11-13 21:28:11   \n",
       "4  @diegomatteus ¿Qué es esto? pongan a esos músi... 2020-11-13 17:32:00   \n",
       "\n",
       "     city             place                   id  \\\n",
       "0  Bogotá  Bogotá, Colombia  1327388271471702016   \n",
       "1  Bogotá  Bogotá, Colombia  1327374986856845312   \n",
       "2  Bogotá         Venezuela  1327368658918797314   \n",
       "3  Bogotá         Zipaquira  1327362650368520197   \n",
       "4  Bogotá            Bogota  1327303211204669442   \n",
       "\n",
       "                                                link  \n",
       "0  https://twitter.com/i/web/status/1327388271471...  \n",
       "1  https://twitter.com/i/web/status/1327374986856...  \n",
       "2  https://twitter.com/i/web/status/1327368658918...  \n",
       "3  https://twitter.com/i/web/status/1327362650368...  \n",
       "4  https://twitter.com/i/web/status/1327303211204...  "
      ]
     },
     "execution_count": 9,
     "metadata": {},
     "output_type": "execute_result"
    }
   ],
   "source": [
    "data = pd.DataFrame(all_tweets)\n",
    "data.columns = ['tweet', 'date', 'city',  'place', 'id', 'link']\n",
    "data.head()"
   ]
  },
  {
   "cell_type": "code",
   "execution_count": 11,
   "metadata": {},
   "outputs": [
    {
     "data": {
      "text/plain": [
       "Villavicencio     10\n",
       "Armenia           10\n",
       "Neiva             10\n",
       "Santa Marta       10\n",
       "Cúcuta            10\n",
       "Cali              10\n",
       "Medellín          10\n",
       "Cartagena         10\n",
       "Bucaramanga       10\n",
       "Barranquilla      10\n",
       "Bogotá            10\n",
       "Pereira           10\n",
       "Valledupar         8\n",
       "Manizales          7\n",
       "Ibagué             6\n",
       "Ríohacha           4\n",
       "Montería           3\n",
       "Popayán            2\n",
       "Sincelejo          2\n",
       "Tunja              2\n",
       "San Andrés         1\n",
       "Puerto Carreño     1\n",
       "Leticia            1\n",
       "Name: city, dtype: int64"
      ]
     },
     "execution_count": 11,
     "metadata": {},
     "output_type": "execute_result"
    }
   ],
   "source": [
    "data.city.value_counts()"
   ]
  },
  {
   "cell_type": "code",
   "execution_count": 12,
   "metadata": {},
   "outputs": [],
   "source": [
    "data.to_csv('datos13112020.csv', index=False)"
   ]
  },
  {
   "cell_type": "markdown",
   "metadata": {},
   "source": [
    "# Pre-procesamiento para twitter"
   ]
  },
  {
   "cell_type": "code",
   "execution_count": 21,
   "metadata": {
    "scrolled": true
   },
   "outputs": [
    {
     "data": {
      "text/html": [
       "<div>\n",
       "<style scoped>\n",
       "    .dataframe tbody tr th:only-of-type {\n",
       "        vertical-align: middle;\n",
       "    }\n",
       "\n",
       "    .dataframe tbody tr th {\n",
       "        vertical-align: top;\n",
       "    }\n",
       "\n",
       "    .dataframe thead th {\n",
       "        text-align: right;\n",
       "    }\n",
       "</style>\n",
       "<table border=\"1\" class=\"dataframe\">\n",
       "  <thead>\n",
       "    <tr style=\"text-align: right;\">\n",
       "      <th></th>\n",
       "      <th>tweet</th>\n",
       "      <th>date</th>\n",
       "      <th>city</th>\n",
       "    </tr>\n",
       "  </thead>\n",
       "  <tbody>\n",
       "    <tr>\n",
       "      <td>0</td>\n",
       "      <td>De las 39 actividades industriales, 28 registr...</td>\n",
       "      <td>2020-11-13 23:10:00</td>\n",
       "      <td>Bogotá</td>\n",
       "    </tr>\n",
       "    <tr>\n",
       "      <td>1</td>\n",
       "      <td>El Ministerio de Hacienda informó que el comit...</td>\n",
       "      <td>2020-11-13 22:17:12</td>\n",
       "      <td>Bogotá</td>\n",
       "    </tr>\n",
       "    <tr>\n",
       "      <td>2</td>\n",
       "      <td>*Trump dice que no sabe qué administración est...</td>\n",
       "      <td>2020-11-13 21:52:04</td>\n",
       "      <td>Bogotá</td>\n",
       "    </tr>\n",
       "    <tr>\n",
       "      <td>3</td>\n",
       "      <td>@SISSUUNAD_ZCBC @SISSU_UNAD @SISSUUNAD_ZCAR @S...</td>\n",
       "      <td>2020-11-13 21:28:11</td>\n",
       "      <td>Bogotá</td>\n",
       "    </tr>\n",
       "    <tr>\n",
       "      <td>4</td>\n",
       "      <td>@diegomatteus ¿Qué es esto? pongan a esos músi...</td>\n",
       "      <td>2020-11-13 17:32:00</td>\n",
       "      <td>Bogotá</td>\n",
       "    </tr>\n",
       "  </tbody>\n",
       "</table>\n",
       "</div>"
      ],
      "text/plain": [
       "                                               tweet                date  \\\n",
       "0  De las 39 actividades industriales, 28 registr... 2020-11-13 23:10:00   \n",
       "1  El Ministerio de Hacienda informó que el comit... 2020-11-13 22:17:12   \n",
       "2  *Trump dice que no sabe qué administración est... 2020-11-13 21:52:04   \n",
       "3  @SISSUUNAD_ZCBC @SISSU_UNAD @SISSUUNAD_ZCAR @S... 2020-11-13 21:28:11   \n",
       "4  @diegomatteus ¿Qué es esto? pongan a esos músi... 2020-11-13 17:32:00   \n",
       "\n",
       "     city  \n",
       "0  Bogotá  \n",
       "1  Bogotá  \n",
       "2  Bogotá  \n",
       "3  Bogotá  \n",
       "4  Bogotá  "
      ]
     },
     "execution_count": 21,
     "metadata": {},
     "output_type": "execute_result"
    }
   ],
   "source": [
    "data = data[['tweet', 'date', 'city']]\n",
    "data.head()"
   ]
  },
  {
   "cell_type": "code",
   "execution_count": 22,
   "metadata": {},
   "outputs": [],
   "source": [
    "import re\n",
    "\n",
    " \n",
    "\n",
    "pattern1 = '?P<pic>pic.twitter.com/[^\\s]+'\n",
    "pattern2 = '?P<url>https?://[^\\s]+'\n",
    "\n",
    " \n",
    "\n",
    "def text_clean(row):\n",
    "    text = row['tweet']\n",
    "    \n",
    "    links = [tuple(j for j in i if j)[-1] for i in re.findall(f\"({pattern1})|({pattern2})\",text)]\n",
    "    for link in links:\n",
    "        text = text.replace(link,\"\")\n",
    "             \n",
    "    hashtags = [interaction for interaction in text.split() if interaction.startswith(\"#\")]\n",
    "    for hashtag in hashtags:\n",
    "        text = text.replace(hashtag,\"\")\n",
    "        \n",
    "    mentions = [interaction for interaction in text.split() if interaction.startswith(\"@\")]\n",
    "    for mention in mentions:\n",
    "        text = text.replace(mention,\"\")\n",
    "        \n",
    "    return text, links, hashtags, mentions"
   ]
  },
  {
   "cell_type": "code",
   "execution_count": 25,
   "metadata": {},
   "outputs": [
    {
     "data": {
      "text/html": [
       "<div>\n",
       "<style scoped>\n",
       "    .dataframe tbody tr th:only-of-type {\n",
       "        vertical-align: middle;\n",
       "    }\n",
       "\n",
       "    .dataframe tbody tr th {\n",
       "        vertical-align: top;\n",
       "    }\n",
       "\n",
       "    .dataframe thead th {\n",
       "        text-align: right;\n",
       "    }\n",
       "</style>\n",
       "<table border=\"1\" class=\"dataframe\">\n",
       "  <thead>\n",
       "    <tr style=\"text-align: right;\">\n",
       "      <th></th>\n",
       "      <th>tweet</th>\n",
       "      <th>date</th>\n",
       "      <th>city</th>\n",
       "      <th>clean</th>\n",
       "      <th>links</th>\n",
       "      <th>hashtags</th>\n",
       "      <th>mentions</th>\n",
       "    </tr>\n",
       "  </thead>\n",
       "  <tbody>\n",
       "    <tr>\n",
       "      <td>0</td>\n",
       "      <td>De las 39 actividades industriales, 28 registr...</td>\n",
       "      <td>2020-11-13 23:10:00</td>\n",
       "      <td>Bogotá</td>\n",
       "      <td>De las 39 actividades industriales, 28 registr...</td>\n",
       "      <td>[https://t.co/8ez7Rl8aMk]</td>\n",
       "      <td>[]</td>\n",
       "      <td>[]</td>\n",
       "    </tr>\n",
       "    <tr>\n",
       "      <td>1</td>\n",
       "      <td>El Ministerio de Hacienda informó que el comit...</td>\n",
       "      <td>2020-11-13 22:17:12</td>\n",
       "      <td>Bogotá</td>\n",
       "      <td>El Ministerio de Hacienda informó que el comit...</td>\n",
       "      <td>[https://t.co/YgQRe5x2c3]</td>\n",
       "      <td>[]</td>\n",
       "      <td>[]</td>\n",
       "    </tr>\n",
       "    <tr>\n",
       "      <td>2</td>\n",
       "      <td>*Trump dice que no sabe qué administración est...</td>\n",
       "      <td>2020-11-13 21:52:04</td>\n",
       "      <td>Bogotá</td>\n",
       "      <td>*Trump dice que no sabe qué administración est...</td>\n",
       "      <td>[https://t.co/AArOdCGeqg, https://t.co/jAk6MqA...</td>\n",
       "      <td>[]</td>\n",
       "      <td>[]</td>\n",
       "    </tr>\n",
       "    <tr>\n",
       "      <td>3</td>\n",
       "      <td>@SISSUUNAD_ZCBC @SISSU_UNAD @SISSUUNAD_ZCAR @S...</td>\n",
       "      <td>2020-11-13 21:28:11</td>\n",
       "      <td>Bogotá</td>\n",
       "      <td>Los retos son muchos, pero siempre se ...</td>\n",
       "      <td>[]</td>\n",
       "      <td>[]</td>\n",
       "      <td>[@SISSUUNAD_ZCBC, @SISSU_UNAD, @SISSUUNAD_ZCAR...</td>\n",
       "    </tr>\n",
       "    <tr>\n",
       "      <td>4</td>\n",
       "      <td>@diegomatteus ¿Qué es esto? pongan a esos músi...</td>\n",
       "      <td>2020-11-13 17:32:00</td>\n",
       "      <td>Bogotá</td>\n",
       "      <td>¿Qué es esto? pongan a esos músicos a pintar ...</td>\n",
       "      <td>[]</td>\n",
       "      <td>[]</td>\n",
       "      <td>[@diegomatteus]</td>\n",
       "    </tr>\n",
       "  </tbody>\n",
       "</table>\n",
       "</div>"
      ],
      "text/plain": [
       "                                               tweet                date  \\\n",
       "0  De las 39 actividades industriales, 28 registr... 2020-11-13 23:10:00   \n",
       "1  El Ministerio de Hacienda informó que el comit... 2020-11-13 22:17:12   \n",
       "2  *Trump dice que no sabe qué administración est... 2020-11-13 21:52:04   \n",
       "3  @SISSUUNAD_ZCBC @SISSU_UNAD @SISSUUNAD_ZCAR @S... 2020-11-13 21:28:11   \n",
       "4  @diegomatteus ¿Qué es esto? pongan a esos músi... 2020-11-13 17:32:00   \n",
       "\n",
       "     city                                              clean  \\\n",
       "0  Bogotá  De las 39 actividades industriales, 28 registr...   \n",
       "1  Bogotá  El Ministerio de Hacienda informó que el comit...   \n",
       "2  Bogotá  *Trump dice que no sabe qué administración est...   \n",
       "3  Bogotá          Los retos son muchos, pero siempre se ...   \n",
       "4  Bogotá   ¿Qué es esto? pongan a esos músicos a pintar ...   \n",
       "\n",
       "                                               links hashtags  \\\n",
       "0                          [https://t.co/8ez7Rl8aMk]       []   \n",
       "1                          [https://t.co/YgQRe5x2c3]       []   \n",
       "2  [https://t.co/AArOdCGeqg, https://t.co/jAk6MqA...       []   \n",
       "3                                                 []       []   \n",
       "4                                                 []       []   \n",
       "\n",
       "                                            mentions  \n",
       "0                                                 []  \n",
       "1                                                 []  \n",
       "2                                                 []  \n",
       "3  [@SISSUUNAD_ZCBC, @SISSU_UNAD, @SISSUUNAD_ZCAR...  \n",
       "4                                    [@diegomatteus]  "
      ]
     },
     "execution_count": 25,
     "metadata": {},
     "output_type": "execute_result"
    }
   ],
   "source": [
    "data[['clean', 'links', 'hashtags', 'mentions']] = data.apply(text_clean, axis=1, result_type='expand')\n",
    "\n",
    "data.head()"
   ]
  },
  {
   "cell_type": "code",
   "execution_count": 29,
   "metadata": {},
   "outputs": [],
   "source": [
    "import regex\n",
    "import emoji\n",
    "\n",
    " \n",
    "\n",
    "def get_emojis(text):\n",
    "    emoji_list = []\n",
    "    data = regex.findall(r'\\X', text)\n",
    "    for word in data:\n",
    "        if any(char in emoji.UNICODE_EMOJI for char in word):\n",
    "            emoji_list.append(word)\n",
    "\n",
    " \n",
    "\n",
    "    return emoji_list\n",
    "\n",
    " \n",
    "\n",
    "data['emojis'] = data['clean'].apply(lambda text: get_emojis(text))"
   ]
  },
  {
   "cell_type": "code",
   "execution_count": 30,
   "metadata": {},
   "outputs": [
    {
     "data": {
      "text/html": [
       "<div>\n",
       "<style scoped>\n",
       "    .dataframe tbody tr th:only-of-type {\n",
       "        vertical-align: middle;\n",
       "    }\n",
       "\n",
       "    .dataframe tbody tr th {\n",
       "        vertical-align: top;\n",
       "    }\n",
       "\n",
       "    .dataframe thead th {\n",
       "        text-align: right;\n",
       "    }\n",
       "</style>\n",
       "<table border=\"1\" class=\"dataframe\">\n",
       "  <thead>\n",
       "    <tr style=\"text-align: right;\">\n",
       "      <th></th>\n",
       "      <th>fecha</th>\n",
       "      <th>cnt</th>\n",
       "    </tr>\n",
       "  </thead>\n",
       "  <tbody>\n",
       "    <tr>\n",
       "      <td>3</td>\n",
       "      <td>2020-11-05</td>\n",
       "      <td>17</td>\n",
       "    </tr>\n",
       "    <tr>\n",
       "      <td>5</td>\n",
       "      <td>2020-11-06</td>\n",
       "      <td>9</td>\n",
       "    </tr>\n",
       "    <tr>\n",
       "      <td>8</td>\n",
       "      <td>2020-11-07</td>\n",
       "      <td>2</td>\n",
       "    </tr>\n",
       "    <tr>\n",
       "      <td>7</td>\n",
       "      <td>2020-11-08</td>\n",
       "      <td>4</td>\n",
       "    </tr>\n",
       "    <tr>\n",
       "      <td>6</td>\n",
       "      <td>2020-11-09</td>\n",
       "      <td>6</td>\n",
       "    </tr>\n",
       "    <tr>\n",
       "      <td>4</td>\n",
       "      <td>2020-11-10</td>\n",
       "      <td>17</td>\n",
       "    </tr>\n",
       "    <tr>\n",
       "      <td>1</td>\n",
       "      <td>2020-11-11</td>\n",
       "      <td>32</td>\n",
       "    </tr>\n",
       "    <tr>\n",
       "      <td>2</td>\n",
       "      <td>2020-11-12</td>\n",
       "      <td>17</td>\n",
       "    </tr>\n",
       "    <tr>\n",
       "      <td>0</td>\n",
       "      <td>2020-11-13</td>\n",
       "      <td>53</td>\n",
       "    </tr>\n",
       "  </tbody>\n",
       "</table>\n",
       "</div>"
      ],
      "text/plain": [
       "        fecha  cnt\n",
       "3  2020-11-05   17\n",
       "5  2020-11-06    9\n",
       "8  2020-11-07    2\n",
       "7  2020-11-08    4\n",
       "6  2020-11-09    6\n",
       "4  2020-11-10   17\n",
       "1  2020-11-11   32\n",
       "2  2020-11-12   17\n",
       "0  2020-11-13   53"
      ]
     },
     "execution_count": 30,
     "metadata": {},
     "output_type": "execute_result"
    }
   ],
   "source": [
    "data['fecha'] = data.date.dt.date\n",
    "temp = pd.DataFrame(data.fecha.value_counts()).reset_index()\n",
    "temp.columns = ['fecha', 'cnt']\n",
    "temp = temp.sort_values('fecha')\n",
    "temp"
   ]
  },
  {
   "cell_type": "markdown",
   "metadata": {},
   "source": [
    "###  `[25 pts]` Punto 2: Hacer una visualización sobre esos tuits\n",
    "\n",
    "❌🎃❌ ¡No Halloween!"
   ]
  },
  {
   "cell_type": "code",
   "execution_count": 33,
   "metadata": {},
   "outputs": [
    {
     "data": {
      "text/html": [
       "        <script type=\"text/javascript\">\n",
       "        window.PlotlyConfig = {MathJaxConfig: 'local'};\n",
       "        if (window.MathJax) {MathJax.Hub.Config({SVG: {font: \"STIX-Web\"}});}\n",
       "        if (typeof require !== 'undefined') {\n",
       "        require.undef(\"plotly\");\n",
       "        requirejs.config({\n",
       "            paths: {\n",
       "                'plotly': ['https://cdn.plot.ly/plotly-latest.min']\n",
       "            }\n",
       "        });\n",
       "        require(['plotly'], function(Plotly) {\n",
       "            window._Plotly = Plotly;\n",
       "        });\n",
       "        }\n",
       "        </script>\n",
       "        "
      ]
     },
     "metadata": {},
     "output_type": "display_data"
    }
   ],
   "source": [
    "import plotly.io as pio\n",
    "import plotly.express as px\n",
    "import plotly.graph_objs as go\n",
    "from plotly.offline import download_plotlyjs, init_notebook_mode, plot, iplot\n",
    "\n",
    " \n",
    "\n",
    "import matplotlib.pyplot as plt\n",
    "%matplotlib inline\n",
    "init_notebook_mode(connected=True)"
   ]
  },
  {
   "cell_type": "code",
   "execution_count": 35,
   "metadata": {},
   "outputs": [
    {
     "data": {
      "application/vnd.plotly.v1+json": {
       "config": {
        "linkText": "Export to plot.ly",
        "plotlyServerURL": "https://plot.ly",
        "showLink": false
       },
       "data": [
        {
         "hoverinfo": "text",
         "line": {
          "color": "#1DA1F2"
         },
         "mode": "lines+markers",
         "name": "Días",
         "text": [
          "Fecha: 2020-11-05<br>Tuits: 17",
          "Fecha: 2020-11-06<br>Tuits: 9",
          "Fecha: 2020-11-07<br>Tuits: 2",
          "Fecha: 2020-11-08<br>Tuits: 4",
          "Fecha: 2020-11-09<br>Tuits: 6",
          "Fecha: 2020-11-10<br>Tuits: 17",
          "Fecha: 2020-11-11<br>Tuits: 32",
          "Fecha: 2020-11-12<br>Tuits: 17",
          "Fecha: 2020-11-13<br>Tuits: 53"
         ],
         "type": "scatter",
         "x": [
          "2020-11-05",
          "2020-11-06",
          "2020-11-07",
          "2020-11-08",
          "2020-11-09",
          "2020-11-10",
          "2020-11-11",
          "2020-11-12",
          "2020-11-13"
         ],
         "y": [
          17,
          9,
          2,
          4,
          6,
          17,
          32,
          17,
          53
         ]
        },
        {
         "hoverinfo": "text",
         "line": {
          "color": "pink"
         },
         "mode": "lines+markers",
         "name": "Días Rosados",
         "text": [
          "Fecha: 2020-11-05<br>Tuits: 17",
          "Fecha: 2020-11-06<br>Tuits: 9",
          "Fecha: 2020-11-07<br>Tuits: 2",
          "Fecha: 2020-11-08<br>Tuits: 4",
          "Fecha: 2020-11-09<br>Tuits: 6",
          "Fecha: 2020-11-10<br>Tuits: 17",
          "Fecha: 2020-11-11<br>Tuits: 32",
          "Fecha: 2020-11-12<br>Tuits: 17",
          "Fecha: 2020-11-13<br>Tuits: 53"
         ],
         "type": "scatter",
         "x": [
          "2020-11-05",
          "2020-11-06",
          "2020-11-07",
          "2020-11-08",
          "2020-11-09",
          "2020-11-10",
          "2020-11-11",
          "2020-11-12",
          "2020-11-13"
         ],
         "y": [
          27,
          19,
          12,
          14,
          16,
          27,
          42,
          27,
          63
         ]
        }
       ],
       "layout": {
        "template": {
         "data": {
          "bar": [
           {
            "error_x": {
             "color": "#2a3f5f"
            },
            "error_y": {
             "color": "#2a3f5f"
            },
            "marker": {
             "line": {
              "color": "#E5ECF6",
              "width": 0.5
             }
            },
            "type": "bar"
           }
          ],
          "barpolar": [
           {
            "marker": {
             "line": {
              "color": "#E5ECF6",
              "width": 0.5
             }
            },
            "type": "barpolar"
           }
          ],
          "carpet": [
           {
            "aaxis": {
             "endlinecolor": "#2a3f5f",
             "gridcolor": "white",
             "linecolor": "white",
             "minorgridcolor": "white",
             "startlinecolor": "#2a3f5f"
            },
            "baxis": {
             "endlinecolor": "#2a3f5f",
             "gridcolor": "white",
             "linecolor": "white",
             "minorgridcolor": "white",
             "startlinecolor": "#2a3f5f"
            },
            "type": "carpet"
           }
          ],
          "choropleth": [
           {
            "colorbar": {
             "outlinewidth": 0,
             "ticks": ""
            },
            "type": "choropleth"
           }
          ],
          "contour": [
           {
            "colorbar": {
             "outlinewidth": 0,
             "ticks": ""
            },
            "colorscale": [
             [
              0,
              "#0d0887"
             ],
             [
              0.1111111111111111,
              "#46039f"
             ],
             [
              0.2222222222222222,
              "#7201a8"
             ],
             [
              0.3333333333333333,
              "#9c179e"
             ],
             [
              0.4444444444444444,
              "#bd3786"
             ],
             [
              0.5555555555555556,
              "#d8576b"
             ],
             [
              0.6666666666666666,
              "#ed7953"
             ],
             [
              0.7777777777777778,
              "#fb9f3a"
             ],
             [
              0.8888888888888888,
              "#fdca26"
             ],
             [
              1,
              "#f0f921"
             ]
            ],
            "type": "contour"
           }
          ],
          "contourcarpet": [
           {
            "colorbar": {
             "outlinewidth": 0,
             "ticks": ""
            },
            "type": "contourcarpet"
           }
          ],
          "heatmap": [
           {
            "colorbar": {
             "outlinewidth": 0,
             "ticks": ""
            },
            "colorscale": [
             [
              0,
              "#0d0887"
             ],
             [
              0.1111111111111111,
              "#46039f"
             ],
             [
              0.2222222222222222,
              "#7201a8"
             ],
             [
              0.3333333333333333,
              "#9c179e"
             ],
             [
              0.4444444444444444,
              "#bd3786"
             ],
             [
              0.5555555555555556,
              "#d8576b"
             ],
             [
              0.6666666666666666,
              "#ed7953"
             ],
             [
              0.7777777777777778,
              "#fb9f3a"
             ],
             [
              0.8888888888888888,
              "#fdca26"
             ],
             [
              1,
              "#f0f921"
             ]
            ],
            "type": "heatmap"
           }
          ],
          "heatmapgl": [
           {
            "colorbar": {
             "outlinewidth": 0,
             "ticks": ""
            },
            "colorscale": [
             [
              0,
              "#0d0887"
             ],
             [
              0.1111111111111111,
              "#46039f"
             ],
             [
              0.2222222222222222,
              "#7201a8"
             ],
             [
              0.3333333333333333,
              "#9c179e"
             ],
             [
              0.4444444444444444,
              "#bd3786"
             ],
             [
              0.5555555555555556,
              "#d8576b"
             ],
             [
              0.6666666666666666,
              "#ed7953"
             ],
             [
              0.7777777777777778,
              "#fb9f3a"
             ],
             [
              0.8888888888888888,
              "#fdca26"
             ],
             [
              1,
              "#f0f921"
             ]
            ],
            "type": "heatmapgl"
           }
          ],
          "histogram": [
           {
            "marker": {
             "colorbar": {
              "outlinewidth": 0,
              "ticks": ""
             }
            },
            "type": "histogram"
           }
          ],
          "histogram2d": [
           {
            "colorbar": {
             "outlinewidth": 0,
             "ticks": ""
            },
            "colorscale": [
             [
              0,
              "#0d0887"
             ],
             [
              0.1111111111111111,
              "#46039f"
             ],
             [
              0.2222222222222222,
              "#7201a8"
             ],
             [
              0.3333333333333333,
              "#9c179e"
             ],
             [
              0.4444444444444444,
              "#bd3786"
             ],
             [
              0.5555555555555556,
              "#d8576b"
             ],
             [
              0.6666666666666666,
              "#ed7953"
             ],
             [
              0.7777777777777778,
              "#fb9f3a"
             ],
             [
              0.8888888888888888,
              "#fdca26"
             ],
             [
              1,
              "#f0f921"
             ]
            ],
            "type": "histogram2d"
           }
          ],
          "histogram2dcontour": [
           {
            "colorbar": {
             "outlinewidth": 0,
             "ticks": ""
            },
            "colorscale": [
             [
              0,
              "#0d0887"
             ],
             [
              0.1111111111111111,
              "#46039f"
             ],
             [
              0.2222222222222222,
              "#7201a8"
             ],
             [
              0.3333333333333333,
              "#9c179e"
             ],
             [
              0.4444444444444444,
              "#bd3786"
             ],
             [
              0.5555555555555556,
              "#d8576b"
             ],
             [
              0.6666666666666666,
              "#ed7953"
             ],
             [
              0.7777777777777778,
              "#fb9f3a"
             ],
             [
              0.8888888888888888,
              "#fdca26"
             ],
             [
              1,
              "#f0f921"
             ]
            ],
            "type": "histogram2dcontour"
           }
          ],
          "mesh3d": [
           {
            "colorbar": {
             "outlinewidth": 0,
             "ticks": ""
            },
            "type": "mesh3d"
           }
          ],
          "parcoords": [
           {
            "line": {
             "colorbar": {
              "outlinewidth": 0,
              "ticks": ""
             }
            },
            "type": "parcoords"
           }
          ],
          "pie": [
           {
            "automargin": true,
            "type": "pie"
           }
          ],
          "scatter": [
           {
            "marker": {
             "colorbar": {
              "outlinewidth": 0,
              "ticks": ""
             }
            },
            "type": "scatter"
           }
          ],
          "scatter3d": [
           {
            "line": {
             "colorbar": {
              "outlinewidth": 0,
              "ticks": ""
             }
            },
            "marker": {
             "colorbar": {
              "outlinewidth": 0,
              "ticks": ""
             }
            },
            "type": "scatter3d"
           }
          ],
          "scattercarpet": [
           {
            "marker": {
             "colorbar": {
              "outlinewidth": 0,
              "ticks": ""
             }
            },
            "type": "scattercarpet"
           }
          ],
          "scattergeo": [
           {
            "marker": {
             "colorbar": {
              "outlinewidth": 0,
              "ticks": ""
             }
            },
            "type": "scattergeo"
           }
          ],
          "scattergl": [
           {
            "marker": {
             "colorbar": {
              "outlinewidth": 0,
              "ticks": ""
             }
            },
            "type": "scattergl"
           }
          ],
          "scattermapbox": [
           {
            "marker": {
             "colorbar": {
              "outlinewidth": 0,
              "ticks": ""
             }
            },
            "type": "scattermapbox"
           }
          ],
          "scatterpolar": [
           {
            "marker": {
             "colorbar": {
              "outlinewidth": 0,
              "ticks": ""
             }
            },
            "type": "scatterpolar"
           }
          ],
          "scatterpolargl": [
           {
            "marker": {
             "colorbar": {
              "outlinewidth": 0,
              "ticks": ""
             }
            },
            "type": "scatterpolargl"
           }
          ],
          "scatterternary": [
           {
            "marker": {
             "colorbar": {
              "outlinewidth": 0,
              "ticks": ""
             }
            },
            "type": "scatterternary"
           }
          ],
          "surface": [
           {
            "colorbar": {
             "outlinewidth": 0,
             "ticks": ""
            },
            "colorscale": [
             [
              0,
              "#0d0887"
             ],
             [
              0.1111111111111111,
              "#46039f"
             ],
             [
              0.2222222222222222,
              "#7201a8"
             ],
             [
              0.3333333333333333,
              "#9c179e"
             ],
             [
              0.4444444444444444,
              "#bd3786"
             ],
             [
              0.5555555555555556,
              "#d8576b"
             ],
             [
              0.6666666666666666,
              "#ed7953"
             ],
             [
              0.7777777777777778,
              "#fb9f3a"
             ],
             [
              0.8888888888888888,
              "#fdca26"
             ],
             [
              1,
              "#f0f921"
             ]
            ],
            "type": "surface"
           }
          ],
          "table": [
           {
            "cells": {
             "fill": {
              "color": "#EBF0F8"
             },
             "line": {
              "color": "white"
             }
            },
            "header": {
             "fill": {
              "color": "#C8D4E3"
             },
             "line": {
              "color": "white"
             }
            },
            "type": "table"
           }
          ]
         },
         "layout": {
          "annotationdefaults": {
           "arrowcolor": "#2a3f5f",
           "arrowhead": 0,
           "arrowwidth": 1
          },
          "coloraxis": {
           "colorbar": {
            "outlinewidth": 0,
            "ticks": ""
           }
          },
          "colorscale": {
           "diverging": [
            [
             0,
             "#8e0152"
            ],
            [
             0.1,
             "#c51b7d"
            ],
            [
             0.2,
             "#de77ae"
            ],
            [
             0.3,
             "#f1b6da"
            ],
            [
             0.4,
             "#fde0ef"
            ],
            [
             0.5,
             "#f7f7f7"
            ],
            [
             0.6,
             "#e6f5d0"
            ],
            [
             0.7,
             "#b8e186"
            ],
            [
             0.8,
             "#7fbc41"
            ],
            [
             0.9,
             "#4d9221"
            ],
            [
             1,
             "#276419"
            ]
           ],
           "sequential": [
            [
             0,
             "#0d0887"
            ],
            [
             0.1111111111111111,
             "#46039f"
            ],
            [
             0.2222222222222222,
             "#7201a8"
            ],
            [
             0.3333333333333333,
             "#9c179e"
            ],
            [
             0.4444444444444444,
             "#bd3786"
            ],
            [
             0.5555555555555556,
             "#d8576b"
            ],
            [
             0.6666666666666666,
             "#ed7953"
            ],
            [
             0.7777777777777778,
             "#fb9f3a"
            ],
            [
             0.8888888888888888,
             "#fdca26"
            ],
            [
             1,
             "#f0f921"
            ]
           ],
           "sequentialminus": [
            [
             0,
             "#0d0887"
            ],
            [
             0.1111111111111111,
             "#46039f"
            ],
            [
             0.2222222222222222,
             "#7201a8"
            ],
            [
             0.3333333333333333,
             "#9c179e"
            ],
            [
             0.4444444444444444,
             "#bd3786"
            ],
            [
             0.5555555555555556,
             "#d8576b"
            ],
            [
             0.6666666666666666,
             "#ed7953"
            ],
            [
             0.7777777777777778,
             "#fb9f3a"
            ],
            [
             0.8888888888888888,
             "#fdca26"
            ],
            [
             1,
             "#f0f921"
            ]
           ]
          },
          "colorway": [
           "#636efa",
           "#EF553B",
           "#00cc96",
           "#ab63fa",
           "#FFA15A",
           "#19d3f3",
           "#FF6692",
           "#B6E880",
           "#FF97FF",
           "#FECB52"
          ],
          "font": {
           "color": "#2a3f5f"
          },
          "geo": {
           "bgcolor": "white",
           "lakecolor": "white",
           "landcolor": "#E5ECF6",
           "showlakes": true,
           "showland": true,
           "subunitcolor": "white"
          },
          "hoverlabel": {
           "align": "left"
          },
          "hovermode": "closest",
          "mapbox": {
           "style": "light"
          },
          "paper_bgcolor": "white",
          "plot_bgcolor": "#E5ECF6",
          "polar": {
           "angularaxis": {
            "gridcolor": "white",
            "linecolor": "white",
            "ticks": ""
           },
           "bgcolor": "#E5ECF6",
           "radialaxis": {
            "gridcolor": "white",
            "linecolor": "white",
            "ticks": ""
           }
          },
          "scene": {
           "xaxis": {
            "backgroundcolor": "#E5ECF6",
            "gridcolor": "white",
            "gridwidth": 2,
            "linecolor": "white",
            "showbackground": true,
            "ticks": "",
            "zerolinecolor": "white"
           },
           "yaxis": {
            "backgroundcolor": "#E5ECF6",
            "gridcolor": "white",
            "gridwidth": 2,
            "linecolor": "white",
            "showbackground": true,
            "ticks": "",
            "zerolinecolor": "white"
           },
           "zaxis": {
            "backgroundcolor": "#E5ECF6",
            "gridcolor": "white",
            "gridwidth": 2,
            "linecolor": "white",
            "showbackground": true,
            "ticks": "",
            "zerolinecolor": "white"
           }
          },
          "shapedefaults": {
           "line": {
            "color": "#2a3f5f"
           }
          },
          "ternary": {
           "aaxis": {
            "gridcolor": "white",
            "linecolor": "white",
            "ticks": ""
           },
           "baxis": {
            "gridcolor": "white",
            "linecolor": "white",
            "ticks": ""
           },
           "bgcolor": "#E5ECF6",
           "caxis": {
            "gridcolor": "white",
            "linecolor": "white",
            "ticks": ""
           }
          },
          "title": {
           "x": 0.05
          },
          "xaxis": {
           "automargin": true,
           "gridcolor": "white",
           "linecolor": "white",
           "ticks": "",
           "title": {
            "standoff": 15
           },
           "zerolinecolor": "white",
           "zerolinewidth": 2
          },
          "yaxis": {
           "automargin": true,
           "gridcolor": "white",
           "linecolor": "white",
           "ticks": "",
           "title": {
            "standoff": 15
           },
           "zerolinecolor": "white",
           "zerolinewidth": 2
          }
         }
        },
        "title": {
         "text": "Número de tuits por día"
        }
       }
      },
      "text/html": [
       "<div>                            <div id=\"55dadd10-2ed2-42da-897e-d5b11e79cab6\" class=\"plotly-graph-div\" style=\"height:525px; width:100%;\"></div>            <script type=\"text/javascript\">                require([\"plotly\"], function(Plotly) {                    window.PLOTLYENV=window.PLOTLYENV || {};                                    if (document.getElementById(\"55dadd10-2ed2-42da-897e-d5b11e79cab6\")) {                    Plotly.newPlot(                        \"55dadd10-2ed2-42da-897e-d5b11e79cab6\",                        [{\"hoverinfo\": \"text\", \"line\": {\"color\": \"#1DA1F2\"}, \"mode\": \"lines+markers\", \"name\": \"D\\u00edas\", \"text\": [\"Fecha: 2020-11-05<br>Tuits: 17\", \"Fecha: 2020-11-06<br>Tuits: 9\", \"Fecha: 2020-11-07<br>Tuits: 2\", \"Fecha: 2020-11-08<br>Tuits: 4\", \"Fecha: 2020-11-09<br>Tuits: 6\", \"Fecha: 2020-11-10<br>Tuits: 17\", \"Fecha: 2020-11-11<br>Tuits: 32\", \"Fecha: 2020-11-12<br>Tuits: 17\", \"Fecha: 2020-11-13<br>Tuits: 53\"], \"type\": \"scatter\", \"x\": [\"2020-11-05\", \"2020-11-06\", \"2020-11-07\", \"2020-11-08\", \"2020-11-09\", \"2020-11-10\", \"2020-11-11\", \"2020-11-12\", \"2020-11-13\"], \"y\": [17, 9, 2, 4, 6, 17, 32, 17, 53]}, {\"hoverinfo\": \"text\", \"line\": {\"color\": \"pink\"}, \"mode\": \"lines+markers\", \"name\": \"D\\u00edas Rosados\", \"text\": [\"Fecha: 2020-11-05<br>Tuits: 17\", \"Fecha: 2020-11-06<br>Tuits: 9\", \"Fecha: 2020-11-07<br>Tuits: 2\", \"Fecha: 2020-11-08<br>Tuits: 4\", \"Fecha: 2020-11-09<br>Tuits: 6\", \"Fecha: 2020-11-10<br>Tuits: 17\", \"Fecha: 2020-11-11<br>Tuits: 32\", \"Fecha: 2020-11-12<br>Tuits: 17\", \"Fecha: 2020-11-13<br>Tuits: 53\"], \"type\": \"scatter\", \"x\": [\"2020-11-05\", \"2020-11-06\", \"2020-11-07\", \"2020-11-08\", \"2020-11-09\", \"2020-11-10\", \"2020-11-11\", \"2020-11-12\", \"2020-11-13\"], \"y\": [27, 19, 12, 14, 16, 27, 42, 27, 63]}],                        {\"template\": {\"data\": {\"bar\": [{\"error_x\": {\"color\": \"#2a3f5f\"}, \"error_y\": {\"color\": \"#2a3f5f\"}, \"marker\": {\"line\": {\"color\": \"#E5ECF6\", \"width\": 0.5}}, \"type\": \"bar\"}], \"barpolar\": [{\"marker\": {\"line\": {\"color\": \"#E5ECF6\", \"width\": 0.5}}, \"type\": \"barpolar\"}], \"carpet\": [{\"aaxis\": {\"endlinecolor\": \"#2a3f5f\", \"gridcolor\": \"white\", \"linecolor\": \"white\", \"minorgridcolor\": \"white\", \"startlinecolor\": \"#2a3f5f\"}, \"baxis\": {\"endlinecolor\": \"#2a3f5f\", \"gridcolor\": \"white\", \"linecolor\": \"white\", \"minorgridcolor\": \"white\", \"startlinecolor\": \"#2a3f5f\"}, \"type\": \"carpet\"}], \"choropleth\": [{\"colorbar\": {\"outlinewidth\": 0, \"ticks\": \"\"}, \"type\": \"choropleth\"}], \"contour\": [{\"colorbar\": {\"outlinewidth\": 0, \"ticks\": \"\"}, \"colorscale\": [[0.0, \"#0d0887\"], [0.1111111111111111, \"#46039f\"], [0.2222222222222222, \"#7201a8\"], [0.3333333333333333, \"#9c179e\"], [0.4444444444444444, \"#bd3786\"], [0.5555555555555556, \"#d8576b\"], [0.6666666666666666, \"#ed7953\"], [0.7777777777777778, \"#fb9f3a\"], [0.8888888888888888, \"#fdca26\"], [1.0, \"#f0f921\"]], \"type\": \"contour\"}], \"contourcarpet\": [{\"colorbar\": {\"outlinewidth\": 0, \"ticks\": \"\"}, \"type\": \"contourcarpet\"}], \"heatmap\": [{\"colorbar\": {\"outlinewidth\": 0, \"ticks\": \"\"}, \"colorscale\": [[0.0, \"#0d0887\"], [0.1111111111111111, \"#46039f\"], [0.2222222222222222, \"#7201a8\"], [0.3333333333333333, \"#9c179e\"], [0.4444444444444444, \"#bd3786\"], [0.5555555555555556, \"#d8576b\"], [0.6666666666666666, \"#ed7953\"], [0.7777777777777778, \"#fb9f3a\"], [0.8888888888888888, \"#fdca26\"], [1.0, \"#f0f921\"]], \"type\": \"heatmap\"}], \"heatmapgl\": [{\"colorbar\": {\"outlinewidth\": 0, \"ticks\": \"\"}, \"colorscale\": [[0.0, \"#0d0887\"], [0.1111111111111111, \"#46039f\"], [0.2222222222222222, \"#7201a8\"], [0.3333333333333333, \"#9c179e\"], [0.4444444444444444, \"#bd3786\"], [0.5555555555555556, \"#d8576b\"], [0.6666666666666666, \"#ed7953\"], [0.7777777777777778, \"#fb9f3a\"], [0.8888888888888888, \"#fdca26\"], [1.0, \"#f0f921\"]], \"type\": \"heatmapgl\"}], \"histogram\": [{\"marker\": {\"colorbar\": {\"outlinewidth\": 0, \"ticks\": \"\"}}, \"type\": \"histogram\"}], \"histogram2d\": [{\"colorbar\": {\"outlinewidth\": 0, \"ticks\": \"\"}, \"colorscale\": [[0.0, \"#0d0887\"], [0.1111111111111111, \"#46039f\"], [0.2222222222222222, \"#7201a8\"], [0.3333333333333333, \"#9c179e\"], [0.4444444444444444, \"#bd3786\"], [0.5555555555555556, \"#d8576b\"], [0.6666666666666666, \"#ed7953\"], [0.7777777777777778, \"#fb9f3a\"], [0.8888888888888888, \"#fdca26\"], [1.0, \"#f0f921\"]], \"type\": \"histogram2d\"}], \"histogram2dcontour\": [{\"colorbar\": {\"outlinewidth\": 0, \"ticks\": \"\"}, \"colorscale\": [[0.0, \"#0d0887\"], [0.1111111111111111, \"#46039f\"], [0.2222222222222222, \"#7201a8\"], [0.3333333333333333, \"#9c179e\"], [0.4444444444444444, \"#bd3786\"], [0.5555555555555556, \"#d8576b\"], [0.6666666666666666, \"#ed7953\"], [0.7777777777777778, \"#fb9f3a\"], [0.8888888888888888, \"#fdca26\"], [1.0, \"#f0f921\"]], \"type\": \"histogram2dcontour\"}], \"mesh3d\": [{\"colorbar\": {\"outlinewidth\": 0, \"ticks\": \"\"}, \"type\": \"mesh3d\"}], \"parcoords\": [{\"line\": {\"colorbar\": {\"outlinewidth\": 0, \"ticks\": \"\"}}, \"type\": \"parcoords\"}], \"pie\": [{\"automargin\": true, \"type\": \"pie\"}], \"scatter\": [{\"marker\": {\"colorbar\": {\"outlinewidth\": 0, \"ticks\": \"\"}}, \"type\": \"scatter\"}], \"scatter3d\": [{\"line\": {\"colorbar\": {\"outlinewidth\": 0, \"ticks\": \"\"}}, \"marker\": {\"colorbar\": {\"outlinewidth\": 0, \"ticks\": \"\"}}, \"type\": \"scatter3d\"}], \"scattercarpet\": [{\"marker\": {\"colorbar\": {\"outlinewidth\": 0, \"ticks\": \"\"}}, \"type\": \"scattercarpet\"}], \"scattergeo\": [{\"marker\": {\"colorbar\": {\"outlinewidth\": 0, \"ticks\": \"\"}}, \"type\": \"scattergeo\"}], \"scattergl\": [{\"marker\": {\"colorbar\": {\"outlinewidth\": 0, \"ticks\": \"\"}}, \"type\": \"scattergl\"}], \"scattermapbox\": [{\"marker\": {\"colorbar\": {\"outlinewidth\": 0, \"ticks\": \"\"}}, \"type\": \"scattermapbox\"}], \"scatterpolar\": [{\"marker\": {\"colorbar\": {\"outlinewidth\": 0, \"ticks\": \"\"}}, \"type\": \"scatterpolar\"}], \"scatterpolargl\": [{\"marker\": {\"colorbar\": {\"outlinewidth\": 0, \"ticks\": \"\"}}, \"type\": \"scatterpolargl\"}], \"scatterternary\": [{\"marker\": {\"colorbar\": {\"outlinewidth\": 0, \"ticks\": \"\"}}, \"type\": \"scatterternary\"}], \"surface\": [{\"colorbar\": {\"outlinewidth\": 0, \"ticks\": \"\"}, \"colorscale\": [[0.0, \"#0d0887\"], [0.1111111111111111, \"#46039f\"], [0.2222222222222222, \"#7201a8\"], [0.3333333333333333, \"#9c179e\"], [0.4444444444444444, \"#bd3786\"], [0.5555555555555556, \"#d8576b\"], [0.6666666666666666, \"#ed7953\"], [0.7777777777777778, \"#fb9f3a\"], [0.8888888888888888, \"#fdca26\"], [1.0, \"#f0f921\"]], \"type\": \"surface\"}], \"table\": [{\"cells\": {\"fill\": {\"color\": \"#EBF0F8\"}, \"line\": {\"color\": \"white\"}}, \"header\": {\"fill\": {\"color\": \"#C8D4E3\"}, \"line\": {\"color\": \"white\"}}, \"type\": \"table\"}]}, \"layout\": {\"annotationdefaults\": {\"arrowcolor\": \"#2a3f5f\", \"arrowhead\": 0, \"arrowwidth\": 1}, \"coloraxis\": {\"colorbar\": {\"outlinewidth\": 0, \"ticks\": \"\"}}, \"colorscale\": {\"diverging\": [[0, \"#8e0152\"], [0.1, \"#c51b7d\"], [0.2, \"#de77ae\"], [0.3, \"#f1b6da\"], [0.4, \"#fde0ef\"], [0.5, \"#f7f7f7\"], [0.6, \"#e6f5d0\"], [0.7, \"#b8e186\"], [0.8, \"#7fbc41\"], [0.9, \"#4d9221\"], [1, \"#276419\"]], \"sequential\": [[0.0, \"#0d0887\"], [0.1111111111111111, \"#46039f\"], [0.2222222222222222, \"#7201a8\"], [0.3333333333333333, \"#9c179e\"], [0.4444444444444444, \"#bd3786\"], [0.5555555555555556, \"#d8576b\"], [0.6666666666666666, \"#ed7953\"], [0.7777777777777778, \"#fb9f3a\"], [0.8888888888888888, \"#fdca26\"], [1.0, \"#f0f921\"]], \"sequentialminus\": [[0.0, \"#0d0887\"], [0.1111111111111111, \"#46039f\"], [0.2222222222222222, \"#7201a8\"], [0.3333333333333333, \"#9c179e\"], [0.4444444444444444, \"#bd3786\"], [0.5555555555555556, \"#d8576b\"], [0.6666666666666666, \"#ed7953\"], [0.7777777777777778, \"#fb9f3a\"], [0.8888888888888888, \"#fdca26\"], [1.0, \"#f0f921\"]]}, \"colorway\": [\"#636efa\", \"#EF553B\", \"#00cc96\", \"#ab63fa\", \"#FFA15A\", \"#19d3f3\", \"#FF6692\", \"#B6E880\", \"#FF97FF\", \"#FECB52\"], \"font\": {\"color\": \"#2a3f5f\"}, \"geo\": {\"bgcolor\": \"white\", \"lakecolor\": \"white\", \"landcolor\": \"#E5ECF6\", \"showlakes\": true, \"showland\": true, \"subunitcolor\": \"white\"}, \"hoverlabel\": {\"align\": \"left\"}, \"hovermode\": \"closest\", \"mapbox\": {\"style\": \"light\"}, \"paper_bgcolor\": \"white\", \"plot_bgcolor\": \"#E5ECF6\", \"polar\": {\"angularaxis\": {\"gridcolor\": \"white\", \"linecolor\": \"white\", \"ticks\": \"\"}, \"bgcolor\": \"#E5ECF6\", \"radialaxis\": {\"gridcolor\": \"white\", \"linecolor\": \"white\", \"ticks\": \"\"}}, \"scene\": {\"xaxis\": {\"backgroundcolor\": \"#E5ECF6\", \"gridcolor\": \"white\", \"gridwidth\": 2, \"linecolor\": \"white\", \"showbackground\": true, \"ticks\": \"\", \"zerolinecolor\": \"white\"}, \"yaxis\": {\"backgroundcolor\": \"#E5ECF6\", \"gridcolor\": \"white\", \"gridwidth\": 2, \"linecolor\": \"white\", \"showbackground\": true, \"ticks\": \"\", \"zerolinecolor\": \"white\"}, \"zaxis\": {\"backgroundcolor\": \"#E5ECF6\", \"gridcolor\": \"white\", \"gridwidth\": 2, \"linecolor\": \"white\", \"showbackground\": true, \"ticks\": \"\", \"zerolinecolor\": \"white\"}}, \"shapedefaults\": {\"line\": {\"color\": \"#2a3f5f\"}}, \"ternary\": {\"aaxis\": {\"gridcolor\": \"white\", \"linecolor\": \"white\", \"ticks\": \"\"}, \"baxis\": {\"gridcolor\": \"white\", \"linecolor\": \"white\", \"ticks\": \"\"}, \"bgcolor\": \"#E5ECF6\", \"caxis\": {\"gridcolor\": \"white\", \"linecolor\": \"white\", \"ticks\": \"\"}}, \"title\": {\"x\": 0.05}, \"xaxis\": {\"automargin\": true, \"gridcolor\": \"white\", \"linecolor\": \"white\", \"ticks\": \"\", \"title\": {\"standoff\": 15}, \"zerolinecolor\": \"white\", \"zerolinewidth\": 2}, \"yaxis\": {\"automargin\": true, \"gridcolor\": \"white\", \"linecolor\": \"white\", \"ticks\": \"\", \"title\": {\"standoff\": 15}, \"zerolinecolor\": \"white\", \"zerolinewidth\": 2}}}, \"title\": {\"text\": \"N\\u00famero de tuits por d\\u00eda\"}},                        {\"responsive\": true}                    ).then(function(){\n",
       "                            \n",
       "var gd = document.getElementById('55dadd10-2ed2-42da-897e-d5b11e79cab6');\n",
       "var x = new MutationObserver(function (mutations, observer) {{\n",
       "        var display = window.getComputedStyle(gd).display;\n",
       "        if (!display || display === 'none') {{\n",
       "            console.log([gd, 'removed!']);\n",
       "            Plotly.purge(gd);\n",
       "            observer.disconnect();\n",
       "        }}\n",
       "}});\n",
       "\n",
       "// Listen for the removal of the full notebook cells\n",
       "var notebookContainer = gd.closest('#notebook-container');\n",
       "if (notebookContainer) {{\n",
       "    x.observe(notebookContainer, {childList: true});\n",
       "}}\n",
       "\n",
       "// Listen for the clearing of the current output cell\n",
       "var outputEl = gd.closest('.output');\n",
       "if (outputEl) {{\n",
       "    x.observe(outputEl, {childList: true});\n",
       "}}\n",
       "\n",
       "                        })                };                });            </script>        </div>"
      ]
     },
     "metadata": {},
     "output_type": "display_data"
    }
   ],
   "source": [
    "trace = go.Scatter(x=temp.fecha.values,\n",
    "                   y=temp.cnt.values,\n",
    "                   text=[f\"Fecha: {f}<br>Tuits: {c}\" for f,c in zip(temp.fecha.values,temp.cnt.values)],\n",
    "                   hoverinfo='text',\n",
    "                   mode='lines+markers',\n",
    "                   name='Días',\n",
    "                   line={'color':'#1DA1F2'})\n",
    "\n",
    "trace2 = go.Scatter(x=temp.fecha.values,\n",
    "                   y=temp.cnt.values+10,\n",
    "                   text=[f\"Fecha: {f}<br>Tuits: {c}\" for f,c in zip(temp.fecha.values,temp.cnt.values)],\n",
    "                   hoverinfo='text',\n",
    "                   mode='lines+markers',\n",
    "                   name='Días Rosados',\n",
    "                   line={'color':'pink'})\n",
    "\n",
    " \n",
    "\n",
    "layout = go.Layout(title='Número de tuits por día')\n",
    "\n",
    " \n",
    "\n",
    "fig = go.Figure(data=[trace, trace2], layout=layout)\n",
    "iplot(fig)"
   ]
  }
 ],
 "metadata": {
  "kernelspec": {
   "display_name": "Python 3",
   "language": "python",
   "name": "python3"
  },
  "language_info": {
   "codemirror_mode": {
    "name": "ipython",
    "version": 3
   },
   "file_extension": ".py",
   "mimetype": "text/x-python",
   "name": "python",
   "nbconvert_exporter": "python",
   "pygments_lexer": "ipython3",
   "version": "3.7.4"
  }
 },
 "nbformat": 4,
 "nbformat_minor": 2
}
